{
 "cells": [
  {
   "cell_type": "code",
   "execution_count": null,
   "metadata": {
    "execution": {
     "iopub.execute_input": "2025-05-10T22:00:37.047265Z",
     "iopub.status.busy": "2025-05-10T22:00:37.046810Z",
     "iopub.status.idle": "2025-05-10T22:00:43.229972Z",
     "shell.execute_reply": "2025-05-10T22:00:43.229181Z",
     "shell.execute_reply.started": "2025-05-10T22:00:37.047238Z"
    },
    "trusted": true
   },
   "outputs": [
    {
     "data": {
      "text/plain": [
       "<Figure size 1600x1000 with 0 Axes>"
      ]
     },
     "metadata": {},
     "output_type": "display_data"
    }
   ],
   "source": [
    "import re\n",
    "import pandas as pd\n",
    "import numpy as np\n",
    "\n",
    "import torch\n",
    "import torch.nn as nn\n",
    "from torch.utils.data import Dataset, DataLoader\n",
    "\n",
    "from sklearn.model_selection import train_test_split\n",
    "from sklearn.metrics import f1_score\n",
    "\n",
    "from transformers import AutoTokenizer\n",
    "from razdel import tokenize\n",
    "from sentence_transformers import SentenceTransformer\n",
    "from tqdm import tqdm\n",
    "\n",
    "import matplotlib.pyplot as plt\n",
    "plt.figure(figsize=(16, 10))\n",
    "\n",
    "import warnings\n",
    "warnings.filterwarnings('ignore')"
   ]
  },
  {
   "cell_type": "markdown",
   "metadata": {},
   "source": [
    "# Предисловие"
   ]
  },
  {
   "cell_type": "markdown",
   "metadata": {},
   "source": [
    "В этом ноутбуке планирую обучить собственную нейронную сеть предсказывать симптомы людей по текстовому промпту. На выходе будет вектор из 22 чисел по каждому из следующих симптомов по порядку: \n",
    "- thal - результат таллиевого стресс-теста\n",
    "- gluc - повышенный уровень глюкозы\n",
    "- ap_lo - нижнее давление\n",
    "- ap_hi - верхнее давление\n",
    "- active - занимается ли физической активностью\n",
    "- st_slope - наклон сегмента ST при пиковой нагрузке\n",
    "- max_hr - максимальная достигнутая частота сердечных сокращений\n",
    "- smoke - курит ли\n",
    "- resting_bp - артериальное давление в состоянии покоя\n",
    "- oldpeak - есть снижение ST сегмента электрокардиограммы вызванный физической нагрузкой\n",
    "- cholesterol_int - уровень холестерина (в мг/дл)\n",
    "- gender - пол\n",
    "- cholesterol - повышенный ли холестерин\n",
    "- fastingbs - уровень сахара в крови натощак больше 120 mg/dl\n",
    "- exerciseangina - имеется стенокардия, вызванная физической нагрузкой\n",
    "- restingecg - результаты электрокардиографии в состоянии покоя\n",
    "- age - возраст\n",
    "- alco - употребляет ли алкоголь\n",
    "- cheastpaintype - боль в груди\n",
    "- nummajorvessels - количество крупных сосудов , окрашенных с помощью флюороскопии\n",
    "- weight - вес (кг)\n",
    "- height - рост (см)\n",
    "\n",
    "Обучу нейронную сеть с двумя предобученными эмбеддерами, сравню качество, выберу лучшую модель"
   ]
  },
  {
   "cell_type": "markdown",
   "metadata": {},
   "source": [
    "## Считывание данных\n",
    "Считаю данные, на которых буду обучаться, а также выполню базовую предобработку, помещу в dataloader вместе с эмбеддингами"
   ]
  },
  {
   "cell_type": "code",
   "execution_count": null,
   "metadata": {
    "execution": {
     "iopub.execute_input": "2025-05-10T22:00:43.231636Z",
     "iopub.status.busy": "2025-05-10T22:00:43.231176Z",
     "iopub.status.idle": "2025-05-10T22:00:43.633908Z",
     "shell.execute_reply": "2025-05-10T22:00:43.633350Z",
     "shell.execute_reply.started": "2025-05-10T22:00:43.231610Z"
    },
    "trusted": true
   },
   "outputs": [],
   "source": [
    "df = pd.read_csv(\"symptoms_prompts_generated_data.csv\")"
   ]
  },
  {
   "cell_type": "code",
   "execution_count": null,
   "metadata": {},
   "outputs": [
    {
     "data": {
      "text/html": [
       "<div>\n",
       "<style scoped>\n",
       "    .dataframe tbody tr th:only-of-type {\n",
       "        vertical-align: middle;\n",
       "    }\n",
       "\n",
       "    .dataframe tbody tr th {\n",
       "        vertical-align: top;\n",
       "    }\n",
       "\n",
       "    .dataframe thead th {\n",
       "        text-align: right;\n",
       "    }\n",
       "</style>\n",
       "<table border=\"1\" class=\"dataframe\">\n",
       "  <thead>\n",
       "    <tr style=\"text-align: right;\">\n",
       "      <th></th>\n",
       "      <th>user_prompt</th>\n",
       "      <th>thal</th>\n",
       "      <th>gluc</th>\n",
       "      <th>ap_lo</th>\n",
       "      <th>ap_hi</th>\n",
       "      <th>active</th>\n",
       "      <th>st_slope</th>\n",
       "      <th>maxhr</th>\n",
       "      <th>smoke</th>\n",
       "      <th>restingbp</th>\n",
       "      <th>...</th>\n",
       "      <th>cholesterol</th>\n",
       "      <th>fastingbs</th>\n",
       "      <th>exerciseangina</th>\n",
       "      <th>restingecg</th>\n",
       "      <th>age</th>\n",
       "      <th>alco</th>\n",
       "      <th>cheastpaintype</th>\n",
       "      <th>nummajorvessels</th>\n",
       "      <th>weight</th>\n",
       "      <th>height</th>\n",
       "    </tr>\n",
       "  </thead>\n",
       "  <tbody>\n",
       "    <tr>\n",
       "      <th>0</th>\n",
       "      <td>Я постоянно ощущаю сильное давление в груди, о...</td>\n",
       "      <td>1.0</td>\n",
       "      <td>1.0</td>\n",
       "      <td>131.0</td>\n",
       "      <td>226.0</td>\n",
       "      <td>1.0</td>\n",
       "      <td>1.0</td>\n",
       "      <td>154.0</td>\n",
       "      <td>0.0</td>\n",
       "      <td>79.0</td>\n",
       "      <td>...</td>\n",
       "      <td>0.0</td>\n",
       "      <td>NaN</td>\n",
       "      <td>NaN</td>\n",
       "      <td>NaN</td>\n",
       "      <td>NaN</td>\n",
       "      <td>NaN</td>\n",
       "      <td>NaN</td>\n",
       "      <td>NaN</td>\n",
       "      <td>NaN</td>\n",
       "      <td>NaN</td>\n",
       "    </tr>\n",
       "    <tr>\n",
       "      <th>1</th>\n",
       "      <td>Меня беспокоит очень высокое давление в покое ...</td>\n",
       "      <td>2.0</td>\n",
       "      <td>0.0</td>\n",
       "      <td>NaN</td>\n",
       "      <td>NaN</td>\n",
       "      <td>NaN</td>\n",
       "      <td>NaN</td>\n",
       "      <td>75.0</td>\n",
       "      <td>NaN</td>\n",
       "      <td>195.0</td>\n",
       "      <td>...</td>\n",
       "      <td>1.0</td>\n",
       "      <td>0.0</td>\n",
       "      <td>0.0</td>\n",
       "      <td>2.0</td>\n",
       "      <td>NaN</td>\n",
       "      <td>NaN</td>\n",
       "      <td>NaN</td>\n",
       "      <td>NaN</td>\n",
       "      <td>NaN</td>\n",
       "      <td>NaN</td>\n",
       "    </tr>\n",
       "    <tr>\n",
       "      <th>2</th>\n",
       "      <td>Мне 56 лет, жалуюсь на постоянную усталость и ...</td>\n",
       "      <td>NaN</td>\n",
       "      <td>0.0</td>\n",
       "      <td>NaN</td>\n",
       "      <td>NaN</td>\n",
       "      <td>NaN</td>\n",
       "      <td>NaN</td>\n",
       "      <td>NaN</td>\n",
       "      <td>NaN</td>\n",
       "      <td>NaN</td>\n",
       "      <td>...</td>\n",
       "      <td>NaN</td>\n",
       "      <td>NaN</td>\n",
       "      <td>NaN</td>\n",
       "      <td>NaN</td>\n",
       "      <td>56.0</td>\n",
       "      <td>NaN</td>\n",
       "      <td>NaN</td>\n",
       "      <td>NaN</td>\n",
       "      <td>NaN</td>\n",
       "      <td>NaN</td>\n",
       "    </tr>\n",
       "    <tr>\n",
       "      <th>3</th>\n",
       "      <td>У меня очень высокий уровень холестерина — 383...</td>\n",
       "      <td>NaN</td>\n",
       "      <td>NaN</td>\n",
       "      <td>104.0</td>\n",
       "      <td>216.0</td>\n",
       "      <td>NaN</td>\n",
       "      <td>NaN</td>\n",
       "      <td>NaN</td>\n",
       "      <td>0.0</td>\n",
       "      <td>NaN</td>\n",
       "      <td>...</td>\n",
       "      <td>1.0</td>\n",
       "      <td>NaN</td>\n",
       "      <td>NaN</td>\n",
       "      <td>NaN</td>\n",
       "      <td>NaN</td>\n",
       "      <td>0.0</td>\n",
       "      <td>2.0</td>\n",
       "      <td>1.0</td>\n",
       "      <td>NaN</td>\n",
       "      <td>NaN</td>\n",
       "    </tr>\n",
       "    <tr>\n",
       "      <th>4</th>\n",
       "      <td>Я чувствую сильную головную боль и бессонницу,...</td>\n",
       "      <td>NaN</td>\n",
       "      <td>NaN</td>\n",
       "      <td>NaN</td>\n",
       "      <td>223.0</td>\n",
       "      <td>NaN</td>\n",
       "      <td>NaN</td>\n",
       "      <td>NaN</td>\n",
       "      <td>NaN</td>\n",
       "      <td>NaN</td>\n",
       "      <td>...</td>\n",
       "      <td>NaN</td>\n",
       "      <td>NaN</td>\n",
       "      <td>NaN</td>\n",
       "      <td>NaN</td>\n",
       "      <td>NaN</td>\n",
       "      <td>1.0</td>\n",
       "      <td>NaN</td>\n",
       "      <td>NaN</td>\n",
       "      <td>NaN</td>\n",
       "      <td>NaN</td>\n",
       "    </tr>\n",
       "  </tbody>\n",
       "</table>\n",
       "<p>5 rows × 23 columns</p>\n",
       "</div>"
      ],
      "text/plain": [
       "                                         user_prompt  thal  gluc  ap_lo  \\\n",
       "0  Я постоянно ощущаю сильное давление в груди, о...   1.0   1.0  131.0   \n",
       "1  Меня беспокоит очень высокое давление в покое ...   2.0   0.0    NaN   \n",
       "2  Мне 56 лет, жалуюсь на постоянную усталость и ...   NaN   0.0    NaN   \n",
       "3  У меня очень высокий уровень холестерина — 383...   NaN   NaN  104.0   \n",
       "4  Я чувствую сильную головную боль и бессонницу,...   NaN   NaN    NaN   \n",
       "\n",
       "   ap_hi  active  st_slope  maxhr  smoke  restingbp  ...  cholesterol  \\\n",
       "0  226.0     1.0       1.0  154.0    0.0       79.0  ...          0.0   \n",
       "1    NaN     NaN       NaN   75.0    NaN      195.0  ...          1.0   \n",
       "2    NaN     NaN       NaN    NaN    NaN        NaN  ...          NaN   \n",
       "3  216.0     NaN       NaN    NaN    0.0        NaN  ...          1.0   \n",
       "4  223.0     NaN       NaN    NaN    NaN        NaN  ...          NaN   \n",
       "\n",
       "   fastingbs  exerciseangina  restingecg   age  alco  cheastpaintype  \\\n",
       "0        NaN             NaN         NaN   NaN   NaN             NaN   \n",
       "1        0.0             0.0         2.0   NaN   NaN             NaN   \n",
       "2        NaN             NaN         NaN  56.0   NaN             NaN   \n",
       "3        NaN             NaN         NaN   NaN   0.0             2.0   \n",
       "4        NaN             NaN         NaN   NaN   1.0             NaN   \n",
       "\n",
       "   nummajorvessels  weight  height  \n",
       "0              NaN     NaN     NaN  \n",
       "1              NaN     NaN     NaN  \n",
       "2              NaN     NaN     NaN  \n",
       "3              1.0     NaN     NaN  \n",
       "4              NaN     NaN     NaN  \n",
       "\n",
       "[5 rows x 23 columns]"
      ]
     },
     "execution_count": 5,
     "metadata": {},
     "output_type": "execute_result"
    }
   ],
   "source": [
    "# Посмотрим на данные\n",
    "df[:5]"
   ]
  },
  {
   "cell_type": "code",
   "execution_count": null,
   "metadata": {},
   "outputs": [
    {
     "name": "stdout",
     "output_type": "stream",
     "text": [
      "<class 'pandas.core.frame.DataFrame'>\n",
      "RangeIndex: 9130 entries, 0 to 9129\n",
      "Data columns (total 23 columns):\n",
      " #   Column           Non-Null Count  Dtype  \n",
      "---  ------           --------------  -----  \n",
      " 0   user_prompt      9130 non-null   object \n",
      " 1   thal             3435 non-null   float64\n",
      " 2   gluc             3466 non-null   float64\n",
      " 3   ap_lo            3468 non-null   float64\n",
      " 4   ap_hi            3364 non-null   float64\n",
      " 5   active           3428 non-null   float64\n",
      " 6   st_slope         3446 non-null   float64\n",
      " 7   maxhr            3364 non-null   float64\n",
      " 8   smoke            3399 non-null   float64\n",
      " 9   restingbp        3431 non-null   float64\n",
      " 10  oldpeak          3480 non-null   float64\n",
      " 11  cholesterol_int  3482 non-null   float64\n",
      " 12  gender           3452 non-null   float64\n",
      " 13  cholesterol      3439 non-null   float64\n",
      " 14  fastingbs        3404 non-null   float64\n",
      " 15  exerciseangina   3401 non-null   float64\n",
      " 16  restingecg       3410 non-null   float64\n",
      " 17  age              3424 non-null   float64\n",
      " 18  alco             3465 non-null   float64\n",
      " 19  cheastpaintype   3457 non-null   float64\n",
      " 20  nummajorvessels  3451 non-null   float64\n",
      " 21  weight           3426 non-null   float64\n",
      " 22  height           3435 non-null   float64\n",
      "dtypes: float64(22), object(1)\n",
      "memory usage: 1.6+ MB\n"
     ]
    }
   ],
   "source": [
    "df.info()"
   ]
  },
  {
   "cell_type": "markdown",
   "metadata": {},
   "source": [
    "В данных треть от каждой фичи это пропущенные значения. Это стоит учитывать при обучении модели."
   ]
  },
  {
   "cell_type": "code",
   "execution_count": null,
   "metadata": {
    "execution": {
     "iopub.execute_input": "2025-05-10T22:00:43.634721Z",
     "iopub.status.busy": "2025-05-10T22:00:43.634541Z",
     "iopub.status.idle": "2025-05-10T22:00:43.647337Z",
     "shell.execute_reply": "2025-05-10T22:00:43.646581Z",
     "shell.execute_reply.started": "2025-05-10T22:00:43.634707Z"
    },
    "trusted": true
   },
   "outputs": [],
   "source": [
    "train_df, val_df = train_test_split(df, test_size=0.2, random_state=42)"
   ]
  },
  {
   "cell_type": "markdown",
   "metadata": {},
   "source": [
    "## 1. DeepPavlov tokenizer"
   ]
  },
  {
   "cell_type": "markdown",
   "metadata": {},
   "source": [
    "Первым протестирую токенизатор DeepPavlov, загруженный из huggingface. Этот токенизатор идет вместе с bert моделью, обученной на корпусе из предложений на русском языке. С помощью него будем вытаскивать токены в предложениях и превращать их в эмбеддинги на лету во время обучения."
   ]
  },
  {
   "cell_type": "code",
   "execution_count": null,
   "metadata": {
    "execution": {
     "iopub.execute_input": "2025-05-10T22:00:43.649304Z",
     "iopub.status.busy": "2025-05-10T22:00:43.649085Z",
     "iopub.status.idle": "2025-05-10T22:00:44.929378Z",
     "shell.execute_reply": "2025-05-10T22:00:44.928626Z",
     "shell.execute_reply.started": "2025-05-10T22:00:43.649288Z"
    },
    "trusted": true
   },
   "outputs": [],
   "source": [
    "# Загрузим токенизатор и определим функцию, возвращающая список из токенов\n",
    "tokenizer = AutoTokenizer.from_pretrained(\"DeepPavlov/rubert-base-cased\")\n",
    "def tokenize_dp(text):\n",
    "    return tokenizer.encode_plus(\n",
    "        text,\n",
    "        max_length=max_length,\n",
    "        padding='max_length',\n",
    "        truncation=True,\n",
    "        return_tensors='pt'\n",
    "    )['input_ids'].squeeze(0)"
   ]
  },
  {
   "cell_type": "markdown",
   "metadata": {},
   "source": [
    "Определим максимальную длину предложений из токенов. Эту длину будем использовать в архитектуре нейросети."
   ]
  },
  {
   "cell_type": "code",
   "execution_count": null,
   "metadata": {
    "execution": {
     "iopub.execute_input": "2025-05-10T22:00:44.930926Z",
     "iopub.status.busy": "2025-05-10T22:00:44.930274Z",
     "iopub.status.idle": "2025-05-10T22:00:49.294945Z",
     "shell.execute_reply": "2025-05-10T22:00:49.294206Z",
     "shell.execute_reply.started": "2025-05-10T22:00:44.930904Z"
    },
    "trusted": true
   },
   "outputs": [],
   "source": [
    "max_length = 0\n",
    "for txt in df['user_prompt']:\n",
    "    if len(tokenizer(txt)['input_ids']) > max_length:\n",
    "        max_length = len(tokenizer(txt)['input_ids'])"
   ]
  },
  {
   "cell_type": "code",
   "execution_count": 56,
   "metadata": {
    "execution": {
     "iopub.execute_input": "2025-05-10T22:00:49.295897Z",
     "iopub.status.busy": "2025-05-10T22:00:49.295691Z",
     "iopub.status.idle": "2025-05-10T22:00:49.300654Z",
     "shell.execute_reply": "2025-05-10T22:00:49.300040Z",
     "shell.execute_reply.started": "2025-05-10T22:00:49.295881Z"
    },
    "trusted": true
   },
   "outputs": [
    {
     "data": {
      "text/plain": [
       "375"
      ]
     },
     "execution_count": 56,
     "metadata": {},
     "output_type": "execute_result"
    }
   ],
   "source": [
    "max_length"
   ]
  },
  {
   "cell_type": "markdown",
   "metadata": {},
   "source": [
    "Определим класс кастомного датасета. Этот датасет будет формировать токенизированное предложение, а также вектор ответов и вектор маски непропущенных значений, чтобы нейросеть не обращала на них внимания. В векторе из ответов все вещественные признаки нормализуются во избежание большого разброса."
   ]
  },
  {
   "cell_type": "code",
   "execution_count": null,
   "metadata": {
    "execution": {
     "iopub.execute_input": "2025-05-10T22:00:49.301611Z",
     "iopub.status.busy": "2025-05-10T22:00:49.301371Z",
     "iopub.status.idle": "2025-05-10T22:00:49.312179Z",
     "shell.execute_reply": "2025-05-10T22:00:49.311512Z",
     "shell.execute_reply.started": "2025-05-10T22:00:49.301596Z"
    },
    "trusted": true
   },
   "outputs": [],
   "source": [
    "class CustomDataset(Dataset):\n",
    "    def __init__(self, df, numerical_ranges):\n",
    "        self.df = df.reset_index().copy()\n",
    "        self.texts = df['user_prompt'].apply(lambda x: tokenize_dp(x)).tolist()\n",
    "        \n",
    "        # Нормализация числовых признаков\n",
    "        self.targets = df.copy()\n",
    "        for name, (min_val, max_val) in numerical_ranges.items():\n",
    "            if name in self.targets.columns:\n",
    "                self.targets[name] = (self.targets[name] - min_val) / (max_val - min_val)\n",
    "                \n",
    "        self.targets = self.targets.iloc[:, 1:].values\n",
    "        self.masks = ~df.iloc[:, 1:].isna().values\n",
    "\n",
    "    def __getitem__(self, idx):\n",
    "        return {\n",
    "            'input_ids': self.texts[idx],\n",
    "            'targets': torch.FloatTensor(self.targets[idx]),\n",
    "            'mask': torch.FloatTensor(self.masks[idx])\n",
    "        }\n",
    "\n",
    "    def __len__(self):\n",
    "        return len(self.targets)"
   ]
  },
  {
   "cell_type": "code",
   "execution_count": null,
   "metadata": {
    "execution": {
     "iopub.execute_input": "2025-05-10T22:00:49.313300Z",
     "iopub.status.busy": "2025-05-10T22:00:49.313060Z",
     "iopub.status.idle": "2025-05-10T22:00:49.323120Z",
     "shell.execute_reply": "2025-05-10T22:00:49.322495Z",
     "shell.execute_reply.started": "2025-05-10T22:00:49.313279Z"
    },
    "trusted": true
   },
   "outputs": [],
   "source": [
    "# Определю словарь из вещественных признаков\n",
    "# и диапазон возможных значений по каждому признаку\n",
    "numerical_ranges = {\n",
    "    'ap_lo': (40, 150),\n",
    "    'ap_hi': (60, 240),\n",
    "    'max_hr': (70, 240),\n",
    "    'resting_bp': (70, 230),\n",
    "    'cholesterol_int': (126, 565),\n",
    "    'age': (18, 101),\n",
    "    'nummajorvessels': (0, 5),\n",
    "    'weight': (40, 201),\n",
    "    'height': (150, 221)\n",
    "}"
   ]
  },
  {
   "cell_type": "code",
   "execution_count": null,
   "metadata": {
    "execution": {
     "iopub.execute_input": "2025-05-10T22:00:49.323932Z",
     "iopub.status.busy": "2025-05-10T22:00:49.323668Z",
     "iopub.status.idle": "2025-05-10T22:00:56.771062Z",
     "shell.execute_reply": "2025-05-10T22:00:56.770483Z",
     "shell.execute_reply.started": "2025-05-10T22:00:49.323915Z"
    },
    "trusted": true
   },
   "outputs": [],
   "source": [
    "train_dataset = CustomDataset(train_df, tokenizer, numerical_ranges)\n",
    "val_dataset = CustomDataset(val_df, tokenizer, numerical_ranges)\n",
    "\n",
    "train_loader = DataLoader(train_dataset, batch_size=64, shuffle=True)\n",
    "val_loader = DataLoader(val_dataset, batch_size=64)"
   ]
  },
  {
   "cell_type": "markdown",
   "metadata": {},
   "source": [
    "## Построение нейросети"
   ]
  },
  {
   "cell_type": "markdown",
   "metadata": {},
   "source": [
    "Здесь определю основные переменные, которые подаются на вход нейросети. В переменная output_config находится 22 элемента - обозначение по каждому признаку, является ли он вещественным или категориальным, и если категориальный, то сколько возможных значений он содержит.<br>\n",
    "Стратегия обучения нейросети следующая: категориальные фичи будут обучаться на CrossEntropyLoss, а вещественные фичи на MSELoss по отдельности. В итоге мы сможем предсказывать с помощью функции argmax категориальные признаки, а вещественные - это будут логиты модели."
   ]
  },
  {
   "cell_type": "code",
   "execution_count": null,
   "metadata": {
    "execution": {
     "iopub.execute_input": "2025-05-10T22:00:56.773674Z",
     "iopub.status.busy": "2025-05-10T22:00:56.773166Z",
     "iopub.status.idle": "2025-05-10T22:00:56.778863Z",
     "shell.execute_reply": "2025-05-10T22:00:56.778171Z",
     "shell.execute_reply.started": "2025-05-10T22:00:56.773655Z"
    },
    "trusted": true
   },
   "outputs": [],
   "source": [
    "vocab_size = tokenizer.vocab_size \n",
    "embedding_dim = max_length\n",
    "hidden_dim = 512\n",
    "output_config = [\n",
    "    ('thal', 'categorical', 4),\n",
    "    ('gluc', 'categorical', 2),\n",
    "    ('ap_lo', 'numerical', 1),\n",
    "    ('ap_hi', 'numerical', 1),\n",
    "    ('active', 'categorical', 2),\n",
    "    ('st_slope', 'categorical', 3),\n",
    "    ('max_hr', 'numerical', 1),\n",
    "    ('smoke', 'categorical', 2),\n",
    "    ('resting_bp', 'numerical', 1),\n",
    "    ('oldpeak', 'categorical', 2),\n",
    "    ('cholesterol_int', 'numerical', 1),\n",
    "    ('gender', 'categorical', 2),\n",
    "    ('cholesterol', 'categorical', 2),\n",
    "    ('fastingbs', 'categorical', 2),\n",
    "    ('exerciseangina', 'categorical', 2),\n",
    "    ('restingecg', 'categorical', 3),\n",
    "    ('age', 'numerical', 1),\n",
    "    ('alco', 'categorical', 2),\n",
    "    ('cheastpaintype', 'categorical', 4),\n",
    "    ('nummajorvessels', 'numerical', 1),\n",
    "    ('weight', 'numerical', 1),\n",
    "    ('height', 'numerical', 1)\n",
    "]"
   ]
  },
  {
   "cell_type": "code",
   "execution_count": null,
   "metadata": {
    "execution": {
     "iopub.execute_input": "2025-05-10T22:00:56.779836Z",
     "iopub.status.busy": "2025-05-10T22:00:56.779622Z",
     "iopub.status.idle": "2025-05-10T22:00:56.792025Z",
     "shell.execute_reply": "2025-05-10T22:00:56.791418Z",
     "shell.execute_reply.started": "2025-05-10T22:00:56.779819Z"
    },
    "trusted": true
   },
   "outputs": [],
   "source": [
    "class MultiOutputModel(nn.Module):\n",
    "    def __init__(self, embedding_dim, hidden_dim, output_config, vocab_size=None):\n",
    "        super().__init__()\n",
    "        # Здесь и далее я учитываю, что vocab_size у нас может не быть,\n",
    "        # так как будем подавать сразу эмбеддинги вместо порядковых чисел токенов\n",
    "        self.vocab_size = vocab_size\n",
    "        if vocab_size:\n",
    "            self.embedding = nn.Embedding(vocab_size, embedding_dim)\n",
    "        self.rnn = nn.LSTM(embedding_dim, hidden_dim, bidirectional=True, batch_first=True)\n",
    "        self.fc = nn.Linear(2*hidden_dim, 512)\n",
    "        \n",
    "        # Выходные слои для каждого признака\n",
    "        self.heads = nn.ModuleDict()\n",
    "        for idx, (name, type_, num_classes) in enumerate(output_config):\n",
    "            if type_ == 'categorical':\n",
    "                self.heads[f'head_{idx}'] = nn.Linear(512, num_classes)\n",
    "            elif type_ == 'numerical':\n",
    "                self.heads[f'head_{idx}'] = nn.Sequential(\n",
    "                    nn.Linear(512, 1),\n",
    "                    nn.Sigmoid()\n",
    "                )\n",
    "\n",
    "    def forward(self, x):\n",
    "        if self.vocab_size:\n",
    "            x = self.embedding(x)\n",
    "        x, _ = self.rnn(x)\n",
    "        if self.vocab_size:\n",
    "            x = torch.mean(x, dim=1)\n",
    "        x = torch.relu(self.fc(x))\n",
    "        \n",
    "        outputs = []\n",
    "        for head in self.heads.values():\n",
    "            outputs.append(head(x))\n",
    "        return torch.cat(outputs, dim=1)"
   ]
  },
  {
   "cell_type": "markdown",
   "metadata": {},
   "source": [
    "## Вспомогательные функции для логирования обучения"
   ]
  },
  {
   "cell_type": "markdown",
   "metadata": {},
   "source": [
    "Напишу функции для расчета потерь (лоссы будут отдельно считаться для категориальных и вещественных фичей, затем складываться в общий лосс) и метрик (буду использовать две метрики: f1 для категориальных фичей и mae для вещественных), а также основной скрипт обучения."
   ]
  },
  {
   "cell_type": "code",
   "execution_count": null,
   "metadata": {},
   "outputs": [],
   "source": [
    "device = torch.device('cuda' if torch.cuda.is_available() else 'cpu')"
   ]
  },
  {
   "cell_type": "code",
   "execution_count": null,
   "metadata": {
    "execution": {
     "iopub.execute_input": "2025-05-10T22:00:56.792848Z",
     "iopub.status.busy": "2025-05-10T22:00:56.792615Z",
     "iopub.status.idle": "2025-05-10T22:00:56.810178Z",
     "shell.execute_reply": "2025-05-10T22:00:56.809494Z",
     "shell.execute_reply.started": "2025-05-10T22:00:56.792832Z"
    },
    "trusted": true
   },
   "outputs": [],
   "source": [
    "def compute_loss(outputs, targets, masks, output_config):\n",
    "    total_loss = 0\n",
    "    start_idx = 0\n",
    "    \n",
    "    for idx, (_, type_, num_classes) in enumerate(output_config):\n",
    "        mask = masks[:, idx]\n",
    "        valid = mask == 1\n",
    "        \n",
    "        if type_ == 'categorical':\n",
    "            loss_fn = nn.CrossEntropyLoss()\n",
    "            pred = outputs[:, start_idx:start_idx+num_classes]\n",
    "            loss = loss_fn(pred[valid], targets[valid, idx].long())\n",
    "        else:\n",
    "            loss_fn = nn.MSELoss()\n",
    "            pred = outputs[:, start_idx]\n",
    "            loss = loss_fn(pred[valid], targets[valid, idx])\n",
    "            \n",
    "        total_loss += loss\n",
    "        start_idx += num_classes if type_ == 'categorical' else 1\n",
    "    \n",
    "    return total_loss / len(output_config)"
   ]
  },
  {
   "cell_type": "code",
   "execution_count": null,
   "metadata": {
    "execution": {
     "iopub.execute_input": "2025-05-10T22:00:59.687747Z",
     "iopub.status.busy": "2025-05-10T22:00:59.687294Z",
     "iopub.status.idle": "2025-05-10T22:00:59.694161Z",
     "shell.execute_reply": "2025-05-10T22:00:59.693484Z",
     "shell.execute_reply.started": "2025-05-10T22:00:59.687724Z"
    },
    "trusted": true
   },
   "outputs": [],
   "source": [
    "def compute_metrics(outputs, targets, masks, output_config):\n",
    "    metrics = {'f1': 0, 'mae': 0}\n",
    "    start_idx = 0\n",
    "    total_counts = {'categorical': 0, 'numerical': 0}\n",
    "    \n",
    "    for idx, (_, type_, num_classes) in enumerate(output_config):\n",
    "        mask = masks[:, idx]\n",
    "        valid = mask == 1\n",
    "        \n",
    "        if not valid.any():\n",
    "            start_idx += num_classes if type_ == 'categorical' else 1\n",
    "            continue\n",
    "            \n",
    "        if type_ == 'categorical':\n",
    "            preds = torch.argmax(outputs[:, start_idx:start_idx+num_classes], dim=1)\n",
    "            f1 = f1_score(targets[valid, idx].cpu().numpy(), \n",
    "                         preds[valid].cpu().numpy(), average='weighted')\n",
    "            metrics['f1'] += f1\n",
    "            total_counts['categorical'] += 1\n",
    "            \n",
    "        else:\n",
    "            preds = outputs[:, start_idx]\n",
    "            mae = torch.abs(preds[valid] - targets[valid, idx]).mean().item()\n",
    "            metrics['mae'] += mae\n",
    "            total_counts['numerical'] += 1\n",
    "            \n",
    "        start_idx += num_classes if type_ == 'categorical' else 1\n",
    "    \n",
    "    # Нормализация метрик\n",
    "    if total_counts['categorical'] > 0:\n",
    "        metrics['f1'] /= total_counts['categorical']\n",
    "    if total_counts['numerical'] > 0:\n",
    "        metrics['mae'] /= total_counts['numerical']\n",
    "    \n",
    "    return metrics"
   ]
  },
  {
   "cell_type": "code",
   "execution_count": null,
   "metadata": {
    "execution": {
     "iopub.execute_input": "2025-05-10T22:00:59.695191Z",
     "iopub.status.busy": "2025-05-10T22:00:59.694994Z",
     "iopub.status.idle": "2025-05-10T22:00:59.717871Z",
     "shell.execute_reply": "2025-05-10T22:00:59.717273Z",
     "shell.execute_reply.started": "2025-05-10T22:00:59.695175Z"
    },
    "trusted": true
   },
   "outputs": [],
   "source": [
    "def train_model(model, train_loader, val_loader, output_config, epochs):\n",
    "    model = model.to(device)\n",
    "    \n",
    "    history = {\n",
    "        'train_loss': [],\n",
    "        'val_loss': [],\n",
    "        'train_f1': [],\n",
    "        'train_mae': [],\n",
    "        'val_f1': [],\n",
    "        'val_mae': []\n",
    "    }\n",
    "    \n",
    "    optimizer = torch.optim.AdamW(model.parameters(), lr=1e-3)\n",
    "    \n",
    "    for epoch in range(epochs):\n",
    "        model.train()\n",
    "        epoch_train_loss = 0\n",
    "        train_metrics = {'f1': 0, 'mae': 0}\n",
    "        \n",
    "        for batch in tqdm(train_loader):\n",
    "            input_ids = batch['input_ids'].to(device)\n",
    "            targets = batch['targets'].to(device)\n",
    "            mask = batch['mask'].to(device)\n",
    "            \n",
    "            outputs = model(input_ids)\n",
    "            loss = compute_loss(outputs, targets, mask, output_config)\n",
    "            \n",
    "            optimizer.zero_grad()\n",
    "            loss.backward()\n",
    "            optimizer.step()\n",
    "            \n",
    "            epoch_train_loss += loss.item()\n",
    "            metrics = compute_metrics(outputs.cpu(), targets.cpu(), mask.cpu(), output_config)\n",
    "            train_metrics['f1'] += metrics['f1']\n",
    "            train_metrics['mae'] += metrics['mae']\n",
    "        \n",
    "        model.eval()\n",
    "        epoch_val_loss = 0\n",
    "        val_metrics = {'f1': 0, 'mae': 0}\n",
    "        \n",
    "        with torch.no_grad():\n",
    "            for batch in tqdm(val_loader):\n",
    "                input_ids = batch['input_ids'].to(device)\n",
    "                targets = batch['targets'].to(device)\n",
    "                mask = batch['mask'].to(device)\n",
    "                \n",
    "                outputs = model(input_ids)\n",
    "                loss = compute_loss(outputs, targets, mask, output_config)\n",
    "                epoch_val_loss += loss.item()\n",
    "                \n",
    "                metrics = compute_metrics(outputs.cpu(), targets.cpu(), mask.cpu(), output_config)\n",
    "                val_metrics['f1'] += metrics['f1']\n",
    "                val_metrics['mae'] += metrics['mae']\n",
    "        \n",
    "        # Добавление логов\n",
    "        history['train_loss'].append(epoch_train_loss / len(train_loader))\n",
    "        history['val_loss'].append(epoch_val_loss / len(val_loader))\n",
    "        \n",
    "        history['train_f1'].append(train_metrics['f1'] / len(train_loader))\n",
    "        history['train_mae'].append(train_metrics['mae'] / len(train_loader))\n",
    "        \n",
    "        history['val_f1'].append(val_metrics['f1'] / len(val_loader))\n",
    "        history['val_mae'].append(val_metrics['mae'] / len(val_loader))\n",
    "        \n",
    "        # логирую каждую 5-ю эпоху\n",
    "        if epoch % 5 == 0:\n",
    "            print(f\"Epoch {epoch+1}/{epochs}\")\n",
    "            print(f\"Train Loss: {history['train_loss'][-1]:.4f} | Val Loss: {history['val_loss'][-1]:.4f}\")\n",
    "            print(f\"Train F1: {history['train_f1'][-1]:.4f} | Val F1: {history['val_f1'][-1]:.4f}\")\n",
    "            print(f\"Train MAE: {history['train_mae'][-1]:.4f} | Val MAE: {history['val_mae'][-1]:.4f}\")\n",
    "            print(\"---------------------------------------------------\")\n",
    "    \n",
    "    return history"
   ]
  },
  {
   "cell_type": "code",
   "execution_count": null,
   "metadata": {},
   "outputs": [],
   "source": [
    "model = MultiOutputModel(embedding_dim, hidden_dim, output_config, vocab_size)\n",
    "optimizer = torch.optim.AdamW(model.parameters(), lr=1e-3)"
   ]
  },
  {
   "cell_type": "code",
   "execution_count": null,
   "metadata": {
    "execution": {
     "iopub.execute_input": "2025-05-09T19:55:57.002953Z",
     "iopub.status.busy": "2025-05-09T19:55:57.002768Z",
     "iopub.status.idle": "2025-05-09T22:56:56.289768Z",
     "shell.execute_reply": "2025-05-09T22:56:56.288882Z",
     "shell.execute_reply.started": "2025-05-09T19:55:57.002939Z"
    },
    "trusted": true
   },
   "outputs": [
    {
     "name": "stderr",
     "output_type": "stream",
     "text": [
      "100%|██████████| 115/115 [08:29<00:00,  4.43s/it]\n",
      "100%|██████████| 29/29 [00:29<00:00,  1.02s/it]\n"
     ]
    },
    {
     "name": "stdout",
     "output_type": "stream",
     "text": [
      "Epoch 1/20\n",
      "Train Loss: 2259.3324 | Val Loss: 2229.2147\n",
      "Train F1: 0.2800 | Val F1: 0.2799\n",
      "Train MAE: 33.5774 | Val MAE: 33.3548\n",
      "---------------------------------------------------\n"
     ]
    },
    {
     "name": "stderr",
     "output_type": "stream",
     "text": [
      "100%|██████████| 115/115 [08:25<00:00,  4.40s/it]\n",
      "100%|██████████| 29/29 [00:29<00:00,  1.03s/it]\n",
      "100%|██████████| 115/115 [08:30<00:00,  4.44s/it]\n",
      "100%|██████████| 29/29 [00:29<00:00,  1.02s/it]\n",
      "100%|██████████| 115/115 [08:28<00:00,  4.42s/it]\n",
      "100%|██████████| 29/29 [00:29<00:00,  1.01s/it]\n",
      "100%|██████████| 115/115 [08:21<00:00,  4.36s/it]\n",
      "100%|██████████| 29/29 [00:29<00:00,  1.02s/it]\n",
      "100%|██████████| 115/115 [08:25<00:00,  4.39s/it]\n",
      "100%|██████████| 29/29 [00:29<00:00,  1.02s/it]\n"
     ]
    },
    {
     "name": "stdout",
     "output_type": "stream",
     "text": [
      "Epoch 6/20\n",
      "Train Loss: 2263.1124 | Val Loss: 2229.1572\n",
      "Train F1: 0.4649 | Val F1: 0.4781\n",
      "Train MAE: 33.6002 | Val MAE: 33.3508\n",
      "---------------------------------------------------\n"
     ]
    },
    {
     "name": "stderr",
     "output_type": "stream",
     "text": [
      "100%|██████████| 115/115 [08:31<00:00,  4.45s/it]\n",
      "100%|██████████| 29/29 [00:29<00:00,  1.02s/it]\n",
      "100%|██████████| 115/115 [08:28<00:00,  4.42s/it]\n",
      "100%|██████████| 29/29 [00:30<00:00,  1.04s/it]\n",
      "100%|██████████| 115/115 [08:32<00:00,  4.45s/it]\n",
      "100%|██████████| 29/29 [00:28<00:00,  1.00it/s]\n",
      "100%|██████████| 115/115 [08:30<00:00,  4.44s/it]\n",
      "100%|██████████| 29/29 [00:29<00:00,  1.02s/it]\n",
      "100%|██████████| 115/115 [08:27<00:00,  4.41s/it]\n",
      "100%|██████████| 29/29 [00:29<00:00,  1.02s/it]\n"
     ]
    },
    {
     "name": "stdout",
     "output_type": "stream",
     "text": [
      "Epoch 11/20\n",
      "Train Loss: 2258.1417 | Val Loss: 2229.0436\n",
      "Train F1: 0.6749 | Val F1: 0.6677\n",
      "Train MAE: 33.5614 | Val MAE: 33.3502\n",
      "---------------------------------------------------\n"
     ]
    },
    {
     "name": "stderr",
     "output_type": "stream",
     "text": [
      "100%|██████████| 115/115 [08:33<00:00,  4.46s/it]\n",
      "100%|██████████| 29/29 [00:30<00:00,  1.05s/it]\n",
      "100%|██████████| 115/115 [08:37<00:00,  4.50s/it]\n",
      "100%|██████████| 29/29 [00:30<00:00,  1.05s/it]\n",
      "100%|██████████| 115/115 [08:32<00:00,  4.45s/it]\n",
      "100%|██████████| 29/29 [00:30<00:00,  1.04s/it]\n",
      "100%|██████████| 115/115 [08:37<00:00,  4.50s/it]\n",
      "100%|██████████| 29/29 [00:30<00:00,  1.05s/it]\n",
      "100%|██████████| 115/115 [08:36<00:00,  4.49s/it]\n",
      "100%|██████████| 29/29 [00:31<00:00,  1.08s/it]\n"
     ]
    },
    {
     "name": "stdout",
     "output_type": "stream",
     "text": [
      "Epoch 16/20\n",
      "Train Loss: nan | Val Loss: 2228.9653\n",
      "Train F1: 0.8138 | Val F1: 0.7588\n",
      "Train MAE: 33.7752 | Val MAE: 33.3516\n",
      "---------------------------------------------------\n"
     ]
    },
    {
     "name": "stderr",
     "output_type": "stream",
     "text": [
      "100%|██████████| 115/115 [08:46<00:00,  4.58s/it]\n",
      "100%|██████████| 29/29 [00:30<00:00,  1.06s/it]\n",
      "100%|██████████| 115/115 [08:41<00:00,  4.53s/it]\n",
      "100%|██████████| 29/29 [00:30<00:00,  1.05s/it]\n",
      "100%|██████████| 115/115 [08:38<00:00,  4.51s/it]\n",
      "100%|██████████| 29/29 [00:30<00:00,  1.05s/it]\n",
      "100%|██████████| 115/115 [08:36<00:00,  4.49s/it]\n",
      "100%|██████████| 29/29 [00:30<00:00,  1.05s/it]\n"
     ]
    }
   ],
   "source": [
    "history_deeppavlov = train_model(model, train_loader, val_loader, output_config, numerical_ranges, epochs=20)"
   ]
  },
  {
   "cell_type": "markdown",
   "metadata": {},
   "source": [
    "Видим, что лосс никак не падает. Метрика mae не меняется, а вот f1 растет неплохо. Сохраню модель."
   ]
  },
  {
   "cell_type": "code",
   "execution_count": null,
   "metadata": {
    "execution": {
     "iopub.execute_input": "2025-05-09T22:56:56.511634Z",
     "iopub.status.busy": "2025-05-09T22:56:56.511359Z",
     "iopub.status.idle": "2025-05-09T22:56:56.934978Z",
     "shell.execute_reply": "2025-05-09T22:56:56.934125Z",
     "shell.execute_reply.started": "2025-05-09T22:56:56.511607Z"
    },
    "trusted": true
   },
   "outputs": [],
   "source": [
    "torch.save(model, \"model_deeppavlov_tokens.pt\")"
   ]
  },
  {
   "cell_type": "markdown",
   "metadata": {},
   "source": [
    "## 2. razdel tokenization + paraphrase-multilingual-MiniLM-L12-v2 embeddings"
   ]
  },
  {
   "cell_type": "markdown",
   "metadata": {},
   "source": [
    "Вторым вариантом я выберу разделение предложения на токены с помощью библиотеки razdel, которая хорошо токенизирует русские предложения. Затем подам каждый токен в paraphrase-multilingual-MiniLM-L12-v2 модель, которая находит эмбеддинги размера 384, и усредню эмбеддинги по каждому токену."
   ]
  },
  {
   "cell_type": "code",
   "execution_count": null,
   "metadata": {},
   "outputs": [],
   "source": [
    "model_embed = SentenceTransformer('sentence-transformers/paraphrase-multilingual-MiniLM-L12-v2')"
   ]
  },
  {
   "cell_type": "code",
   "execution_count": null,
   "metadata": {},
   "outputs": [],
   "source": [
    "def embedder(text):\n",
    "    # Токенизирую предложения, удаляю мусорные символы, нахожу эмбеддинги\n",
    "    tokens = [s.text for s in tokenize(text)]\n",
    "    tokens = [re.sub(r'[^\\w]', '', token) for token in tokens]\n",
    "    tokens = [token for token in tokens if token] \n",
    "    return model_embed.encode(tokens, show_progress_bar=False).mean(axis=0)"
   ]
  },
  {
   "cell_type": "code",
   "execution_count": null,
   "metadata": {},
   "outputs": [],
   "source": [
    "class CustomDataset(Dataset):\n",
    "    def __init__(self, df, numerical_ranges):\n",
    "        self.df = df.reset_index().copy()\n",
    "        self.texts = df['user_prompt'].apply(embedder).to_list()\n",
    "        \n",
    "        self.targets = df.copy()\n",
    "        for name, (min_val, max_val) in numerical_ranges.items():\n",
    "            if name in self.targets.columns:\n",
    "                self.targets[name] = (self.targets[name] - min_val) / (max_val - min_val)\n",
    "                \n",
    "        self.targets = self.targets.iloc[:, 1:].values\n",
    "        self.masks = ~df.iloc[:, 1:].isna().values\n",
    "\n",
    "    def __getitem__(self, idx):\n",
    "        return {\n",
    "            'input_ids': self.texts[idx],\n",
    "            'targets': torch.FloatTensor(self.targets[idx]),\n",
    "            'mask': torch.FloatTensor(self.masks[idx])\n",
    "        }\n",
    "\n",
    "    def __len__(self):\n",
    "        return len(self.targets)"
   ]
  },
  {
   "cell_type": "code",
   "execution_count": null,
   "metadata": {},
   "outputs": [],
   "source": [
    "train_dataset = CustomDataset(train_df, numerical_ranges)\n",
    "val_dataset = CustomDataset(val_df, numerical_ranges)\n",
    "\n",
    "train_loader = DataLoader(train_dataset, batch_size=64, shuffle=True)\n",
    "val_loader = DataLoader(val_dataset, batch_size=64)"
   ]
  },
  {
   "cell_type": "markdown",
   "metadata": {},
   "source": [
    "## Обучение модели"
   ]
  },
  {
   "cell_type": "markdown",
   "metadata": {},
   "source": [
    "Здесь уже эмбеддинги подаются на вход модели сразу, поэтому vocab_size и слой nn.Embeddings нам не нужны"
   ]
  },
  {
   "cell_type": "code",
   "execution_count": null,
   "metadata": {},
   "outputs": [
    {
     "name": "stderr",
     "output_type": "stream",
     "text": [
      "100%|██████████| 115/115 [00:09<00:00, 11.76it/s]\n",
      "100%|██████████| 29/29 [00:01<00:00, 24.55it/s]\n"
     ]
    },
    {
     "name": "stdout",
     "output_type": "stream",
     "text": [
      "Epoch 1/101\n",
      "Train Loss: 2269.8119 | Val Loss: 2229.2065\n",
      "Train F1: 0.2826 | Val F1: 0.2770\n",
      "Train MAE: 33.6620 | Val MAE: 33.3538\n",
      "---------------------------------------------------\n"
     ]
    },
    {
     "name": "stderr",
     "output_type": "stream",
     "text": [
      "100%|██████████| 115/115 [00:10<00:00, 11.20it/s]\n",
      "100%|██████████| 29/29 [00:01<00:00, 24.06it/s]\n",
      "100%|██████████| 115/115 [00:09<00:00, 11.79it/s]\n",
      "100%|██████████| 29/29 [00:01<00:00, 24.20it/s]\n",
      "100%|██████████| 115/115 [00:09<00:00, 11.82it/s]\n",
      "100%|██████████| 29/29 [00:01<00:00, 24.98it/s]\n",
      "100%|██████████| 115/115 [00:10<00:00, 11.28it/s]\n",
      "100%|██████████| 29/29 [00:01<00:00, 25.19it/s]\n",
      "100%|██████████| 115/115 [00:09<00:00, 11.71it/s]\n",
      "100%|██████████| 29/29 [00:01<00:00, 24.63it/s]\n"
     ]
    },
    {
     "name": "stdout",
     "output_type": "stream",
     "text": [
      "Epoch 6/101\n",
      "Train Loss: 2266.5742 | Val Loss: 2229.1887\n",
      "Train F1: 0.2893 | Val F1: 0.2753\n",
      "Train MAE: 33.6337 | Val MAE: 33.3509\n",
      "---------------------------------------------------\n"
     ]
    },
    {
     "name": "stderr",
     "output_type": "stream",
     "text": [
      "100%|██████████| 115/115 [00:10<00:00, 11.47it/s]\n",
      "100%|██████████| 29/29 [00:01<00:00, 25.03it/s]\n",
      "100%|██████████| 115/115 [00:10<00:00, 11.00it/s]\n",
      "100%|██████████| 29/29 [00:01<00:00, 25.24it/s]\n",
      "100%|██████████| 115/115 [00:09<00:00, 11.60it/s]\n",
      "100%|██████████| 29/29 [00:01<00:00, 25.39it/s]\n",
      "100%|██████████| 115/115 [00:09<00:00, 11.65it/s]\n",
      "100%|██████████| 29/29 [00:01<00:00, 25.37it/s]\n",
      "100%|██████████| 115/115 [00:10<00:00, 11.21it/s]\n",
      "100%|██████████| 29/29 [00:01<00:00, 24.46it/s]\n"
     ]
    },
    {
     "name": "stdout",
     "output_type": "stream",
     "text": [
      "Epoch 11/101\n",
      "Train Loss: nan | Val Loss: 2229.1819\n",
      "Train F1: 0.3460 | Val F1: 0.3454\n",
      "Train MAE: 33.7120 | Val MAE: 33.3504\n",
      "---------------------------------------------------\n"
     ]
    },
    {
     "name": "stderr",
     "output_type": "stream",
     "text": [
      "100%|██████████| 115/115 [00:09<00:00, 11.58it/s]\n",
      "100%|██████████| 29/29 [00:01<00:00, 24.30it/s]\n",
      "100%|██████████| 115/115 [00:10<00:00, 11.42it/s]\n",
      "100%|██████████| 29/29 [00:01<00:00, 24.55it/s]\n",
      "100%|██████████| 115/115 [00:10<00:00, 11.27it/s]\n",
      "100%|██████████| 29/29 [00:01<00:00, 25.07it/s]\n",
      "100%|██████████| 115/115 [00:09<00:00, 11.56it/s]\n",
      "100%|██████████| 29/29 [00:01<00:00, 24.55it/s]\n",
      "100%|██████████| 115/115 [00:09<00:00, 11.58it/s]\n",
      "100%|██████████| 29/29 [00:01<00:00, 22.50it/s]\n"
     ]
    },
    {
     "name": "stdout",
     "output_type": "stream",
     "text": [
      "Epoch 16/101\n",
      "Train Loss: 2272.7314 | Val Loss: 2229.1703\n",
      "Train F1: 0.4491 | Val F1: 0.4366\n",
      "Train MAE: 33.6766 | Val MAE: 33.3506\n",
      "---------------------------------------------------\n"
     ]
    },
    {
     "name": "stderr",
     "output_type": "stream",
     "text": [
      "100%|██████████| 115/115 [00:10<00:00, 11.35it/s]\n",
      "100%|██████████| 29/29 [00:01<00:00, 25.80it/s]\n",
      "100%|██████████| 115/115 [00:09<00:00, 11.58it/s]\n",
      "100%|██████████| 29/29 [00:01<00:00, 25.15it/s]\n",
      "100%|██████████| 115/115 [00:10<00:00, 11.26it/s]\n",
      "100%|██████████| 29/29 [00:01<00:00, 24.80it/s]\n",
      "100%|██████████| 115/115 [00:09<00:00, 11.81it/s]\n",
      "100%|██████████| 29/29 [00:01<00:00, 25.10it/s]\n",
      "100%|██████████| 115/115 [00:09<00:00, 11.73it/s]\n",
      "100%|██████████| 29/29 [00:01<00:00, 25.50it/s]\n"
     ]
    },
    {
     "name": "stdout",
     "output_type": "stream",
     "text": [
      "Epoch 21/101\n",
      "Train Loss: nan | Val Loss: 2229.1371\n",
      "Train F1: 0.5435 | Val F1: 0.5199\n",
      "Train MAE: 33.5936 | Val MAE: 33.3508\n",
      "---------------------------------------------------\n"
     ]
    },
    {
     "name": "stderr",
     "output_type": "stream",
     "text": [
      "100%|██████████| 115/115 [00:10<00:00, 11.23it/s]\n",
      "100%|██████████| 29/29 [00:01<00:00, 25.68it/s]\n",
      "100%|██████████| 115/115 [00:09<00:00, 11.76it/s]\n",
      "100%|██████████| 29/29 [00:01<00:00, 25.85it/s]\n",
      "100%|██████████| 115/115 [00:09<00:00, 11.58it/s]\n",
      "100%|██████████| 29/29 [00:01<00:00, 25.13it/s]\n",
      "100%|██████████| 115/115 [00:10<00:00, 11.13it/s]\n",
      "100%|██████████| 29/29 [00:01<00:00, 24.92it/s]\n",
      "100%|██████████| 115/115 [00:09<00:00, 11.57it/s]\n",
      "100%|██████████| 29/29 [00:01<00:00, 24.94it/s]\n"
     ]
    },
    {
     "name": "stdout",
     "output_type": "stream",
     "text": [
      "Epoch 26/101\n",
      "Train Loss: 2268.1577 | Val Loss: 2229.1144\n",
      "Train F1: 0.5770 | Val F1: 0.5608\n",
      "Train MAE: 33.6502 | Val MAE: 33.3500\n",
      "---------------------------------------------------\n"
     ]
    },
    {
     "name": "stderr",
     "output_type": "stream",
     "text": [
      "100%|██████████| 115/115 [00:09<00:00, 11.62it/s]\n",
      "100%|██████████| 29/29 [00:01<00:00, 25.31it/s]\n",
      "100%|██████████| 115/115 [00:10<00:00, 11.28it/s]\n",
      "100%|██████████| 29/29 [00:01<00:00, 23.94it/s]\n",
      "100%|██████████| 115/115 [00:09<00:00, 11.80it/s]\n",
      "100%|██████████| 29/29 [00:01<00:00, 24.51it/s]\n",
      "100%|██████████| 115/115 [00:09<00:00, 11.61it/s]\n",
      "100%|██████████| 29/29 [00:01<00:00, 25.80it/s]\n",
      "100%|██████████| 115/115 [00:10<00:00, 11.48it/s]\n",
      "100%|██████████| 29/29 [00:01<00:00, 25.78it/s]\n"
     ]
    },
    {
     "name": "stdout",
     "output_type": "stream",
     "text": [
      "Epoch 31/101\n",
      "Train Loss: 2270.4306 | Val Loss: 2229.1130\n",
      "Train F1: 0.5903 | Val F1: 0.5599\n",
      "Train MAE: 33.6503 | Val MAE: 33.3502\n",
      "---------------------------------------------------\n"
     ]
    },
    {
     "name": "stderr",
     "output_type": "stream",
     "text": [
      "100%|██████████| 115/115 [00:09<00:00, 11.86it/s]\n",
      "100%|██████████| 29/29 [00:01<00:00, 25.61it/s]\n",
      "100%|██████████| 115/115 [00:09<00:00, 11.87it/s]\n",
      "100%|██████████| 29/29 [00:01<00:00, 24.91it/s]\n",
      "100%|██████████| 115/115 [00:09<00:00, 11.62it/s]\n",
      "100%|██████████| 29/29 [00:01<00:00, 25.43it/s]\n",
      "100%|██████████| 115/115 [00:09<00:00, 11.67it/s]\n",
      "100%|██████████| 29/29 [00:01<00:00, 25.74it/s]\n",
      "100%|██████████| 115/115 [00:09<00:00, 11.85it/s]\n",
      "100%|██████████| 29/29 [00:01<00:00, 25.55it/s]\n"
     ]
    },
    {
     "name": "stdout",
     "output_type": "stream",
     "text": [
      "Epoch 36/101\n",
      "Train Loss: 2276.9526 | Val Loss: 2229.1073\n",
      "Train F1: 0.6065 | Val F1: 0.5853\n",
      "Train MAE: 33.7076 | Val MAE: 33.3505\n",
      "---------------------------------------------------\n"
     ]
    },
    {
     "name": "stderr",
     "output_type": "stream",
     "text": [
      "100%|██████████| 115/115 [00:10<00:00, 11.38it/s]\n",
      "100%|██████████| 29/29 [00:01<00:00, 24.83it/s]\n",
      "100%|██████████| 115/115 [00:09<00:00, 11.82it/s]\n",
      "100%|██████████| 29/29 [00:01<00:00, 25.42it/s]\n",
      "100%|██████████| 115/115 [00:09<00:00, 11.87it/s]\n",
      "100%|██████████| 29/29 [00:01<00:00, 22.97it/s]\n",
      "100%|██████████| 115/115 [00:09<00:00, 11.80it/s]\n",
      "100%|██████████| 29/29 [00:01<00:00, 25.24it/s]\n",
      "100%|██████████| 115/115 [00:09<00:00, 11.75it/s]\n",
      "100%|██████████| 29/29 [00:01<00:00, 25.83it/s]\n"
     ]
    },
    {
     "name": "stdout",
     "output_type": "stream",
     "text": [
      "Epoch 41/101\n",
      "Train Loss: 2274.5748 | Val Loss: 2229.0904\n",
      "Train F1: 0.6177 | Val F1: 0.6102\n",
      "Train MAE: 33.6937 | Val MAE: 33.3494\n",
      "---------------------------------------------------\n"
     ]
    },
    {
     "name": "stderr",
     "output_type": "stream",
     "text": [
      "100%|██████████| 115/115 [00:10<00:00, 11.34it/s]\n",
      "100%|██████████| 29/29 [00:01<00:00, 24.46it/s]\n",
      "100%|██████████| 115/115 [00:09<00:00, 11.81it/s]\n",
      "100%|██████████| 29/29 [00:01<00:00, 25.12it/s]\n",
      "100%|██████████| 115/115 [00:09<00:00, 11.75it/s]\n",
      "100%|██████████| 29/29 [00:01<00:00, 26.07it/s]\n",
      "100%|██████████| 115/115 [00:09<00:00, 11.60it/s]\n",
      "100%|██████████| 29/29 [00:01<00:00, 26.01it/s]\n",
      "100%|██████████| 115/115 [00:09<00:00, 11.81it/s]\n",
      "100%|██████████| 29/29 [00:01<00:00, 25.89it/s]\n"
     ]
    },
    {
     "name": "stdout",
     "output_type": "stream",
     "text": [
      "Epoch 46/101\n",
      "Train Loss: 2275.2681 | Val Loss: 2229.0881\n",
      "Train F1: 0.6358 | Val F1: 0.6092\n",
      "Train MAE: 33.6870 | Val MAE: 33.3499\n",
      "---------------------------------------------------\n"
     ]
    },
    {
     "name": "stderr",
     "output_type": "stream",
     "text": [
      "100%|██████████| 115/115 [00:09<00:00, 11.83it/s]\n",
      "100%|██████████| 29/29 [00:01<00:00, 25.68it/s]\n",
      "100%|██████████| 115/115 [00:10<00:00, 11.29it/s]\n",
      "100%|██████████| 29/29 [00:01<00:00, 24.82it/s]\n",
      "100%|██████████| 115/115 [00:09<00:00, 11.79it/s]\n",
      "100%|██████████| 29/29 [00:01<00:00, 25.49it/s]\n",
      "100%|██████████| 115/115 [00:09<00:00, 11.82it/s]\n",
      "100%|██████████| 29/29 [00:01<00:00, 25.59it/s]\n",
      "100%|██████████| 115/115 [00:09<00:00, 11.52it/s]\n",
      "100%|██████████| 29/29 [00:01<00:00, 25.63it/s]\n"
     ]
    },
    {
     "name": "stdout",
     "output_type": "stream",
     "text": [
      "Epoch 51/101\n",
      "Train Loss: 2272.5723 | Val Loss: 2229.0778\n",
      "Train F1: 0.6437 | Val F1: 0.6206\n",
      "Train MAE: 33.6747 | Val MAE: 33.3494\n",
      "---------------------------------------------------\n"
     ]
    },
    {
     "name": "stderr",
     "output_type": "stream",
     "text": [
      "100%|██████████| 115/115 [00:09<00:00, 11.82it/s]\n",
      "100%|██████████| 29/29 [00:01<00:00, 24.91it/s]\n",
      "100%|██████████| 115/115 [00:09<00:00, 11.63it/s]\n",
      "100%|██████████| 29/29 [00:01<00:00, 25.56it/s]\n",
      "100%|██████████| 115/115 [00:10<00:00, 11.19it/s]\n",
      "100%|██████████| 29/29 [00:01<00:00, 25.33it/s]\n",
      "100%|██████████| 115/115 [00:09<00:00, 11.84it/s]\n",
      "100%|██████████| 29/29 [00:01<00:00, 25.94it/s]\n",
      "100%|██████████| 115/115 [00:09<00:00, 11.81it/s]\n",
      "100%|██████████| 29/29 [00:01<00:00, 25.27it/s]\n"
     ]
    },
    {
     "name": "stdout",
     "output_type": "stream",
     "text": [
      "Epoch 56/101\n",
      "Train Loss: nan | Val Loss: 2229.0740\n",
      "Train F1: 0.6530 | Val F1: 0.6389\n",
      "Train MAE: 33.6111 | Val MAE: 33.3490\n",
      "---------------------------------------------------\n"
     ]
    },
    {
     "name": "stderr",
     "output_type": "stream",
     "text": [
      "100%|██████████| 115/115 [00:10<00:00, 11.14it/s]\n",
      "100%|██████████| 29/29 [00:01<00:00, 23.93it/s]\n",
      "100%|██████████| 115/115 [00:09<00:00, 11.71it/s]\n",
      "100%|██████████| 29/29 [00:01<00:00, 25.52it/s]\n",
      "100%|██████████| 115/115 [00:09<00:00, 11.61it/s]\n",
      "100%|██████████| 29/29 [00:01<00:00, 25.62it/s]\n",
      "100%|██████████| 115/115 [00:10<00:00, 11.17it/s]\n",
      "100%|██████████| 29/29 [00:01<00:00, 25.14it/s]\n",
      "100%|██████████| 115/115 [00:09<00:00, 11.70it/s]\n",
      "100%|██████████| 29/29 [00:01<00:00, 24.90it/s]\n"
     ]
    },
    {
     "name": "stdout",
     "output_type": "stream",
     "text": [
      "Epoch 61/101\n",
      "Train Loss: nan | Val Loss: 2229.0744\n",
      "Train F1: 0.6637 | Val F1: 0.6363\n",
      "Train MAE: 33.6255 | Val MAE: 33.3486\n",
      "---------------------------------------------------\n"
     ]
    },
    {
     "name": "stderr",
     "output_type": "stream",
     "text": [
      "100%|██████████| 115/115 [00:09<00:00, 11.77it/s]\n",
      "100%|██████████| 29/29 [00:01<00:00, 22.30it/s]\n",
      "100%|██████████| 115/115 [00:09<00:00, 11.58it/s]\n",
      "100%|██████████| 29/29 [00:01<00:00, 25.46it/s]\n",
      "100%|██████████| 115/115 [00:09<00:00, 11.60it/s]\n",
      "100%|██████████| 29/29 [00:01<00:00, 24.80it/s]\n",
      "100%|██████████| 115/115 [00:10<00:00, 11.34it/s]\n",
      "100%|██████████| 29/29 [00:01<00:00, 24.82it/s]\n",
      "100%|██████████| 115/115 [00:09<00:00, 11.79it/s]\n",
      "100%|██████████| 29/29 [00:01<00:00, 24.47it/s]\n"
     ]
    },
    {
     "name": "stdout",
     "output_type": "stream",
     "text": [
      "Epoch 66/101\n",
      "Train Loss: 2269.0669 | Val Loss: 2229.0637\n",
      "Train F1: 0.6696 | Val F1: 0.6492\n",
      "Train MAE: 33.6338 | Val MAE: 33.3479\n",
      "---------------------------------------------------\n"
     ]
    },
    {
     "name": "stderr",
     "output_type": "stream",
     "text": [
      "100%|██████████| 115/115 [00:09<00:00, 11.50it/s]\n",
      "100%|██████████| 29/29 [00:01<00:00, 24.37it/s]\n",
      "100%|██████████| 115/115 [00:10<00:00, 11.08it/s]\n",
      "100%|██████████| 29/29 [00:01<00:00, 25.28it/s]\n",
      "100%|██████████| 115/115 [00:09<00:00, 11.60it/s]\n",
      "100%|██████████| 29/29 [00:01<00:00, 25.01it/s]\n",
      "100%|██████████| 115/115 [00:09<00:00, 11.55it/s]\n",
      "100%|██████████| 29/29 [00:01<00:00, 24.95it/s]\n",
      "100%|██████████| 115/115 [00:10<00:00, 11.36it/s]\n",
      "100%|██████████| 29/29 [00:01<00:00, 25.07it/s]\n"
     ]
    },
    {
     "name": "stdout",
     "output_type": "stream",
     "text": [
      "Epoch 71/101\n",
      "Train Loss: 2270.5044 | Val Loss: 2229.0626\n",
      "Train F1: 0.6788 | Val F1: 0.6595\n",
      "Train MAE: 33.6573 | Val MAE: 33.3477\n",
      "---------------------------------------------------\n"
     ]
    },
    {
     "name": "stderr",
     "output_type": "stream",
     "text": [
      "100%|██████████| 115/115 [00:09<00:00, 11.87it/s]\n",
      "100%|██████████| 29/29 [00:01<00:00, 25.66it/s]\n",
      "100%|██████████| 115/115 [00:09<00:00, 11.80it/s]\n",
      "100%|██████████| 29/29 [00:01<00:00, 26.11it/s]\n",
      "100%|██████████| 115/115 [00:10<00:00, 11.33it/s]\n",
      "100%|██████████| 29/29 [00:01<00:00, 24.68it/s]\n",
      "100%|██████████| 115/115 [00:09<00:00, 11.75it/s]\n",
      "100%|██████████| 29/29 [00:01<00:00, 24.77it/s]\n",
      "100%|██████████| 115/115 [00:09<00:00, 11.76it/s]\n",
      "100%|██████████| 29/29 [00:01<00:00, 24.72it/s]\n"
     ]
    },
    {
     "name": "stdout",
     "output_type": "stream",
     "text": [
      "Epoch 76/101\n",
      "Train Loss: nan | Val Loss: 2229.0597\n",
      "Train F1: 0.6846 | Val F1: 0.6544\n",
      "Train MAE: 33.6211 | Val MAE: 33.3469\n",
      "---------------------------------------------------\n"
     ]
    },
    {
     "name": "stderr",
     "output_type": "stream",
     "text": [
      "100%|██████████| 115/115 [00:10<00:00, 11.22it/s]\n",
      "100%|██████████| 29/29 [00:01<00:00, 25.36it/s]\n",
      "100%|██████████| 115/115 [00:09<00:00, 11.66it/s]\n",
      "100%|██████████| 29/29 [00:01<00:00, 25.64it/s]\n",
      "100%|██████████| 115/115 [00:09<00:00, 11.79it/s]\n",
      "100%|██████████| 29/29 [00:01<00:00, 25.39it/s]\n",
      "100%|██████████| 115/115 [00:10<00:00, 11.23it/s]\n",
      "100%|██████████| 29/29 [00:01<00:00, 25.67it/s]\n",
      "100%|██████████| 115/115 [00:09<00:00, 11.75it/s]\n",
      "100%|██████████| 29/29 [00:01<00:00, 25.15it/s]\n"
     ]
    },
    {
     "name": "stdout",
     "output_type": "stream",
     "text": [
      "Epoch 81/101\n",
      "Train Loss: 2267.4377 | Val Loss: 2229.0544\n",
      "Train F1: 0.6934 | Val F1: 0.6663\n",
      "Train MAE: 33.6294 | Val MAE: 33.3465\n",
      "---------------------------------------------------\n"
     ]
    },
    {
     "name": "stderr",
     "output_type": "stream",
     "text": [
      "100%|██████████| 115/115 [00:09<00:00, 11.68it/s]\n",
      "100%|██████████| 29/29 [00:01<00:00, 23.97it/s]\n",
      "100%|██████████| 115/115 [00:09<00:00, 11.71it/s]\n",
      "100%|██████████| 29/29 [00:01<00:00, 25.00it/s]\n",
      "100%|██████████| 115/115 [00:09<00:00, 11.69it/s]\n",
      "100%|██████████| 29/29 [00:01<00:00, 24.32it/s]\n",
      "100%|██████████| 115/115 [00:10<00:00, 11.38it/s]\n",
      "100%|██████████| 29/29 [00:01<00:00, 24.60it/s]\n",
      "100%|██████████| 115/115 [00:09<00:00, 11.69it/s]\n",
      "100%|██████████| 29/29 [00:01<00:00, 25.49it/s]\n"
     ]
    },
    {
     "name": "stdout",
     "output_type": "stream",
     "text": [
      "Epoch 86/101\n",
      "Train Loss: 2276.6483 | Val Loss: 2229.0562\n",
      "Train F1: 0.7007 | Val F1: 0.6651\n",
      "Train MAE: 33.6912 | Val MAE: 33.3468\n",
      "---------------------------------------------------\n"
     ]
    },
    {
     "name": "stderr",
     "output_type": "stream",
     "text": [
      "100%|██████████| 115/115 [00:09<00:00, 11.70it/s]\n",
      "100%|██████████| 29/29 [00:01<00:00, 25.46it/s]\n",
      "100%|██████████| 115/115 [00:10<00:00, 11.08it/s]\n",
      "100%|██████████| 29/29 [00:01<00:00, 25.53it/s]\n",
      "100%|██████████| 115/115 [00:09<00:00, 11.76it/s]\n",
      "100%|██████████| 29/29 [00:01<00:00, 25.17it/s]\n",
      "100%|██████████| 115/115 [00:09<00:00, 11.72it/s]\n",
      "100%|██████████| 29/29 [00:01<00:00, 25.31it/s]\n",
      "100%|██████████| 115/115 [00:10<00:00, 11.00it/s]\n",
      "100%|██████████| 29/29 [00:01<00:00, 24.43it/s]\n"
     ]
    },
    {
     "name": "stdout",
     "output_type": "stream",
     "text": [
      "Epoch 91/101\n",
      "Train Loss: 2264.1139 | Val Loss: 2229.0564\n",
      "Train F1: 0.7066 | Val F1: 0.6682\n",
      "Train MAE: 33.5893 | Val MAE: 33.3457\n",
      "---------------------------------------------------\n"
     ]
    },
    {
     "name": "stderr",
     "output_type": "stream",
     "text": [
      "100%|██████████| 115/115 [00:09<00:00, 11.72it/s]\n",
      "100%|██████████| 29/29 [00:01<00:00, 25.55it/s]\n",
      "100%|██████████| 115/115 [00:09<00:00, 11.78it/s]\n",
      "100%|██████████| 29/29 [00:01<00:00, 24.37it/s]\n",
      "100%|██████████| 115/115 [00:09<00:00, 11.51it/s]\n",
      "100%|██████████| 29/29 [00:01<00:00, 23.97it/s]\n",
      "100%|██████████| 115/115 [00:09<00:00, 11.74it/s]\n",
      "100%|██████████| 29/29 [00:01<00:00, 25.29it/s]\n",
      "100%|██████████| 115/115 [00:09<00:00, 11.64it/s]\n",
      "100%|██████████| 29/29 [00:01<00:00, 24.59it/s]\n"
     ]
    },
    {
     "name": "stdout",
     "output_type": "stream",
     "text": [
      "Epoch 96/101\n",
      "Train Loss: 2270.2354 | Val Loss: 2229.0500\n",
      "Train F1: 0.7162 | Val F1: 0.6686\n",
      "Train MAE: 33.6509 | Val MAE: 33.3456\n",
      "---------------------------------------------------\n"
     ]
    },
    {
     "name": "stderr",
     "output_type": "stream",
     "text": [
      "100%|██████████| 115/115 [00:10<00:00, 11.08it/s]\n",
      "100%|██████████| 29/29 [00:01<00:00, 25.32it/s]\n",
      "100%|██████████| 115/115 [00:09<00:00, 11.85it/s]\n",
      "100%|██████████| 29/29 [00:01<00:00, 25.47it/s]\n",
      "100%|██████████| 115/115 [00:09<00:00, 11.80it/s]\n",
      "100%|██████████| 29/29 [00:01<00:00, 25.84it/s]\n",
      "100%|██████████| 115/115 [00:10<00:00, 11.19it/s]\n",
      "100%|██████████| 29/29 [00:01<00:00, 25.74it/s]\n",
      "100%|██████████| 115/115 [00:09<00:00, 11.57it/s]\n",
      "100%|██████████| 29/29 [00:01<00:00, 25.41it/s]"
     ]
    },
    {
     "name": "stdout",
     "output_type": "stream",
     "text": [
      "Epoch 101/101\n",
      "Train Loss: 2270.0900 | Val Loss: 2229.0466\n",
      "Train F1: 0.7191 | Val F1: 0.6730\n",
      "Train MAE: 33.6539 | Val MAE: 33.3443\n",
      "---------------------------------------------------\n"
     ]
    },
    {
     "name": "stderr",
     "output_type": "stream",
     "text": [
      "\n"
     ]
    }
   ],
   "source": [
    "embedding_dim = 384\n",
    "model = MultiOutputModel(embedding_dim, hidden_dim, output_config)\n",
    "history_razdel = train_model(model, train_loader, val_loader, output_config, numerical_ranges, epochs=101)"
   ]
  },
  {
   "cell_type": "markdown",
   "metadata": {},
   "source": [
    "По результатам обучения видим, что с вещественными признаками ситуация не улучшилась, а по категориальным метрика также растет. <br>\n",
    "Выберу версию с deeppavlov, так как там метрика f1 выше."
   ]
  },
  {
   "cell_type": "markdown",
   "metadata": {},
   "source": [
    "## Визуализация логов обучения"
   ]
  },
  {
   "cell_type": "code",
   "execution_count": null,
   "metadata": {},
   "outputs": [
    {
     "data": {
      "image/png": "[encoded data removed]",
      "text/plain": [
       "<Figure size 640x480 with 1 Axes>"
      ]
     },
     "metadata": {},
     "output_type": "display_data"
    }
   ],
   "source": [
    "# Заменяю пропущенные значения на средние\n",
    "for key in history_deeppavlov:\n",
    "    history_deeppavlov[key] = np.array(history_deeppavlov[key])\n",
    "    if key.startswith('train'):\n",
    "        history_deeppavlov[key][np.isnan(history_deeppavlov[key])] = np.nanmean(history_deeppavlov[key])\n",
    "\n",
    "plt.plot(history_deeppavlov['train_loss'], label='Train', color='blue', alpha=0.7)\n",
    "plt.plot(history_deeppavlov['val_loss'], label='Validation', color='orange', alpha=0.7)\n",
    "plt.title('График потерь')\n",
    "plt.xlabel('Epoch')\n",
    "plt.ylabel('Loss')\n",
    "plt.legend()\n",
    "plt.grid(True, linestyle='--', alpha=0.5)\n",
    "\n",
    "plt.show()"
   ]
  },
  {
   "cell_type": "code",
   "execution_count": null,
   "metadata": {},
   "outputs": [
    {
     "data": {
      "image/png": "[encoded data removed]",
      "text/plain": [
       "<Figure size 640x480 with 1 Axes>"
      ]
     },
     "metadata": {},
     "output_type": "display_data"
    }
   ],
   "source": [
    "plt.plot(history_deeppavlov['train_f1'], label='Train', color='green', alpha=0.7)\n",
    "plt.plot(history_deeppavlov['val_f1'], label='Validation', color='red', alpha=0.7)\n",
    "plt.title('F1 Score')\n",
    "plt.xlabel('Epoch')\n",
    "plt.ylabel('F1 Score')\n",
    "plt.legend()\n",
    "plt.grid(True, linestyle='--', alpha=0.5)\n",
    "\n",
    "plt.show()"
   ]
  },
  {
   "cell_type": "code",
   "execution_count": null,
   "metadata": {},
   "outputs": [
    {
     "data": {
      "image/png": "[encoded data removed]",
      "text/plain": [
       "<Figure size 640x480 with 1 Axes>"
      ]
     },
     "metadata": {},
     "output_type": "display_data"
    }
   ],
   "source": [
    "plt.plot(history_deeppavlov['train_mae'], label='Train', color='purple', alpha=0.7)\n",
    "plt.plot(history_deeppavlov['val_mae'], label='Validation', color='brown', alpha=0.7)\n",
    "plt.title('MAE score')\n",
    "plt.xlabel('Epoch')\n",
    "plt.ylabel('MAE')\n",
    "plt.legend()\n",
    "plt.grid(True, linestyle='--', alpha=0.5)\n",
    "\n",
    "plt.show()"
   ]
  },
  {
   "cell_type": "markdown",
   "metadata": {},
   "source": [
    "## Инференс модели"
   ]
  },
  {
   "cell_type": "markdown",
   "metadata": {},
   "source": [
    "Реализую код для использования модели на инференсе"
   ]
  },
  {
   "cell_type": "code",
   "execution_count": null,
   "metadata": {
    "trusted": true
   },
   "outputs": [],
   "source": [
    "model = torch.load('model_deeppavlov_tokens.pt', map_location=device)"
   ]
  },
  {
   "cell_type": "code",
   "execution_count": null,
   "metadata": {},
   "outputs": [],
   "source": [
    "def predict(text, model, output_config, numerical_ranges):\n",
    "    model.eval()\n",
    "    with torch.no_grad():\n",
    "        inputs = tokenize_dp(text).unsqueeze(0).to(device)\n",
    "        outputs = model(inputs).squeeze(0).cpu()\n",
    "    \n",
    "    prediction = []\n",
    "    start_idx = 0\n",
    "    \n",
    "    for idx, (name, type_, num_classes) in enumerate(output_config):\n",
    "        if type_ == 'categorical':\n",
    "            probs = torch.softmax(outputs[start_idx:start_idx+num_classes], -1)\n",
    "            if torch.max(probs) < 0.5:  # Порог уверенности\n",
    "                prediction.append(torch.nan)\n",
    "            else:\n",
    "                prediction.append(torch.argmax(probs).item())\n",
    "            start_idx += num_classes\n",
    "        else:\n",
    "            min_val, max_val = numerical_ranges[name]\n",
    "            val = outputs[start_idx].item() * (max_val - min_val) + min_val\n",
    "            prediction.append(val)\n",
    "            start_idx += 1\n",
    "    \n",
    "    return torch.tensor(prediction)"
   ]
  },
  {
   "cell_type": "code",
   "execution_count": null,
   "metadata": {},
   "outputs": [],
   "source": [
    "text = \"Я мужчина постоянно ощущаю сильное давление в груди, особенно во время физической активности. \\\n",
    "    У меня также есть подозрения на проблемы с сердцем, так как результаты стресс-теста показывают фиксированный дефект. \\\n",
    "        На днях я заметила, что уровень глюкозы в крови значительно повышен, что меня очень беспокоит. \\\n",
    "            Особенно тревожит, что артериальное давление зашкаливает: верхнее 226, а нижнее 131. \\\n",
    "                Несмотря на то что стараюсь поддерживать физическую активность, по последнему тесту заметила, \\\n",
    "                    что максимальная частота сердечных сокращений достигала лишь 154. Никаких изменений в состоянии покоя не наблюдала: \\\n",
    "                        давление 79. При этом сегмент ST на электрокардиограмме не меняется при физических нагрузках, но к чему это может привести? \\\n",
    "                            И еще момент: уровень холестерина меня просто шокирует – 513, хотя у меня его не считали повышенным. В целом, \\\n",
    "                                такая ситуация меня пугает, я не курю и стараюсь следить за своим здоровьем, но чувствую, что не все в порядке.\""
   ]
  },
  {
   "cell_type": "code",
   "execution_count": 54,
   "metadata": {},
   "outputs": [],
   "source": [
    "pred = predict(text, model, output_config, numerical_ranges)"
   ]
  },
  {
   "cell_type": "code",
   "execution_count": 53,
   "metadata": {},
   "outputs": [],
   "source": [
    "symptoms = ['thal', 'gluc', 'ap_lo', 'ap_hi', 'active', 'st_slope', \n",
    "            'max_hr', 'smoke', 'resting_bp', 'oldpeak', 'cholesterol_int', \n",
    "            'gender', 'cholesterol', 'fastingbs', 'exerciseangina', \n",
    "            'restingecg', 'age', 'alco', 'cheastpaintype', 'nummajorvessels', \n",
    "            'weight', 'height' ]"
   ]
  },
  {
   "cell_type": "code",
   "execution_count": 55,
   "metadata": {},
   "outputs": [
    {
     "name": "stdout",
     "output_type": "stream",
     "text": [
      "thal: 1.0\n",
      "gluc: 1.0\n",
      "ap_lo: 87.1370849609375\n",
      "ap_hi: 150.93275451660156\n",
      "active: 1.0\n",
      "st_slope: 2.0\n",
      "max_hr: 240.0\n",
      "smoke: 0.0\n",
      "resting_bp: 230.0\n",
      "oldpeak: 0.0\n",
      "cholesterol_int: 372.85345458984375\n",
      "gender: 1.0\n",
      "cholesterol: 0.0\n",
      "fastingbs: 0.0\n",
      "exerciseangina: 0.0\n",
      "restingecg: 0.0\n",
      "age: 54.28721618652344\n",
      "alco: 0.0\n",
      "cheastpaintype: nan\n",
      "nummajorvessels: 1.7663443088531494\n",
      "weight: 101.04859161376953\n",
      "height: 187.79180908203125\n"
     ]
    }
   ],
   "source": [
    "for sym, val in zip(symptoms, pred):\n",
    "    print(f\"{sym}: {val}\")"
   ]
  },
  {
   "cell_type": "markdown",
   "metadata": {},
   "source": [
    "Выводы и дальнейшие шаги:<br>\n",
    "С текущей реалищацией нейронная сеть довольно плохо предсказывает вещественные признаки и хорошо справляется с категориальными. Думаю, чтобы модель умела вытягивать числа из текста, нужно отдельно их вытаскивать из голого промпта и обучать еще одну голову, где будет храниться информация о численных значениях, которые вводит человек в тексте. "
   ]
  }
 ],
 "metadata": {
  "kaggle": {
   "accelerator": "nvidiaTeslaT4",
   "dataSources": [
    {
     "datasetId": 7345307,
     "sourceId": 11702301,
     "sourceType": "datasetVersion"
    }
   ],
   "dockerImageVersionId": 31012,
   "isGpuEnabled": true,
   "isInternetEnabled": true,
   "language": "python",
   "sourceType": "notebook"
  },
  "kernelspec": {
   "display_name": "Python 3",
   "language": "python",
   "name": "python3"
  },
  "language_info": {
   "codemirror_mode": {
    "name": "ipython",
    "version": 3
   },
   "file_extension": ".py",
   "mimetype": "text/x-python",
   "name": "python",
   "nbconvert_exporter": "python",
   "pygments_lexer": "ipython3",
   "version": "3.11.9"
  }
 },
 "nbformat": 4,
 "nbformat_minor": 4
}
