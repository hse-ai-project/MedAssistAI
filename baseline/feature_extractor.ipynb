{
 "cells": [
  {
   "cell_type": "markdown",
   "metadata": {},
   "source": [
    "# Генерация синтетических данных"
   ]
  },
  {
   "cell_type": "code",
   "execution_count": null,
   "metadata": {},
   "outputs": [],
   "source": [
    "import random\n",
    "\n",
    "symptoms = {\n",
    "    \"vomiting\": \"рвота\",\n",
    "    \"breathlessness\": \"одышка\",\n",
    "    \"sweating\": \"потливость\",\n",
    "    \"headache\": \"головная боль\",\n",
    "    \"chest_pain\": \"боль в груди\",\n",
    "    \"dizziness\": \"головокружение\",\n",
    "    \"loss_of_balance\": \"потеря равновесия\",\n",
    "    \"lack_of_concentration\": \"отсутствие концентрации\"\n",
    "}\n",
    "\n",
    "single_symptom_phrases = [\n",
    "    \"я сегодня испытываю {symptom}.\",\n",
    "    \"у меня {symptom}, и мне это не нравится.\",\n",
    "    \"похоже, что у меня {symptom}.\",\n",
    "    \"в последнее время я замечаю {symptom}.\",\n",
    "    \"{symptom} меня беспокоит уже несколько дней.\",\n",
    "    \"я не могу сосредоточиться из-за {symptom}.\",\n",
    "    \"кажется, я чувствую {symptom}.\",\n",
    "    \"проблемы с {symptom} не покидают меня.\",\n",
    "    \"мне кажется, у меня {symptom}.\",\n",
    "    \"уже который день у меня {symptom}.\",\n",
    "    \"мой врач сказал, что у меня {symptom}.\",\n",
    "    \"меня беспокоит {symptom}.\",\n",
    "    \"как долго продлится {symptom}?\",\n",
    "    \"не знаю, что делать с {symptom}.\",\n",
    "    \"из-за {symptom} я плохо сплю.\",\n",
    "    \"моя {symptom} становится хуже с каждым днем.\",\n",
    "    \"из-за {symptom} я чувствую усталость каждый день.\",\n",
    "    \"этот {symptom} сводит меня с ума.\",\n",
    "    \"жить с {symptom} сложно.\",\n",
    "    \"весь день испорчен из-за {symptom}.\",\n",
    "    \"невозможно сосредоточиться из-за {symptom}.\",\n",
    "    \"я начал(a) замечать {symptom} только недавно.\",\n",
    "    \"каждое утро начинается с {symptom}.\",\n",
    "    \"было бы здорово избавиться от {symptom}.\",\n",
    "    \"может ли {symptom} пройти сам по себе?\",\n",
    "    \"мои друзья говорят, что {symptom} пройдет.\",\n",
    "    \"слышал(a), что {symptom} может быть опасно.\",\n",
    "    \"иногда я думаю, что {symptom} исчезло, но потом возвращается.\",\n",
    "    \"интернет пишет, что {symptom} может быть разным.\",\n",
    "    \"боязно идти к врачу из-за {symptom}.\",\n",
    "    \"не знаю, что предпринять против {symptom}.\",\n",
    "    \"заметил(a), что {symptom} чаще всего к вечеру.\",\n",
    "    \"часто ли {symptom} бывает у других?\",\n",
    "    \"существует много советов по поводу {symptom}.\",\n",
    "    \"придется привыкать жить с {symptom}.\",\n",
    "    \"я сбит(a) с толку из-за {symptom}.\",\n",
    "    \"на {symptom} даже лекарства не помогают.\",\n",
    "    \"проблемы с {symptom} начались недавно.\",\n",
    "    \"возможно, это просто {symptom}.\",\n",
    "    \"поговорил(a) со знакомыми, у них тоже было {symptom}.\",\n",
    "    \"интересно, это просто {symptom} или что-то более серьезное?\",\n",
    "    \"когда начинается {symptom}, мне сразу становится плохо.\",\n",
    "    \"было бы замечательно, если бы {symptom} исчезло.\",\n",
    "    \"читал(a) форумы о {symptom}, и это пугает.\",\n",
    "    \"нужно просто терпеть, пока {symptom} не пройдет.\",\n",
    "    \"никогда раньше не было {symptom}.\",\n",
    "    \"могу ли я сделать что-то против {symptom}?\",\n",
    "    \"есть подозрение, что это {symptom}.\",\n",
    "    \"чем может быть вызвано {symptom}?\",\n",
    "]\n",
    "\n",
    "multiple_symptoms_phrases = [\n",
    "    \"сегодня я обнаружил у себя {symptoms}.\",\n",
    "    \"{symptoms} делают мой день невыносимым.\",\n",
    "    \"кажется, у меня одновременно есть {symptoms}.\",\n",
    "    \"не могу понять, почему вдруг появились {symptoms}.\",\n",
    "    \"сегодня я страдаю от {symptoms}.\",\n",
    "    \"я чувствую {symptoms}, и не знаю, что с этим делать.\",\n",
    "    \"{symptoms} не дают мне покоя.\",\n",
    "    \"у меня {symptoms}.\"\n",
    "]\n",
    "\n",
    "def generate_synthetic_text_data(num_samples=100):\n",
    "    data = []\n",
    "    for _ in range(num_samples):\n",
    "        symptom_english, symptom_russian = random.choice(list(symptoms.items()))\n",
    "        phrase = random.choice(single_symptom_phrases)\n",
    "        text = phrase.format(symptom=symptom_russian)\n",
    "        features = {sym: 1 if sym == symptom_english else 0 for sym in symptoms.keys()}\n",
    "        data.append((text, features))\n",
    "    for _ in range(num_samples):\n",
    "        num_symptoms = random.randint(2, 8)  # От 2 до 8 симптомов\n",
    "        chosen_symptoms = random.sample(list(symptoms.items()), num_symptoms)\n",
    "        phrase = random.choice(multiple_symptoms_phrases)\n",
    "        symptoms_texts = [symptom_russian for _, symptom_russian in chosen_symptoms]\n",
    "        symptoms_text = ', '.join(symptoms_texts)\n",
    "        text = phrase.format(symptoms=symptoms_text)\n",
    "        features = {sym: 0 for sym in symptoms.keys()}\n",
    "        for eng, _ in chosen_symptoms:\n",
    "            features[eng] = 1\n",
    "        data.append((text, features))\n",
    "    \n",
    "    return data\n",
    "\n",
    "synthetic_data = generate_synthetic_text_data(num_samples=1000)"
   ]
  },
  {
   "cell_type": "code",
   "execution_count": 54,
   "metadata": {},
   "outputs": [
    {
     "name": "stdout",
     "output_type": "stream",
     "text": [
      "(2000, 2)\n"
     ]
    },
    {
     "data": {
      "text/html": [
       "<div>\n",
       "<style scoped>\n",
       "    .dataframe tbody tr th:only-of-type {\n",
       "        vertical-align: middle;\n",
       "    }\n",
       "\n",
       "    .dataframe tbody tr th {\n",
       "        vertical-align: top;\n",
       "    }\n",
       "\n",
       "    .dataframe thead th {\n",
       "        text-align: right;\n",
       "    }\n",
       "</style>\n",
       "<table border=\"1\" class=\"dataframe\">\n",
       "  <thead>\n",
       "    <tr style=\"text-align: right;\">\n",
       "      <th></th>\n",
       "      <th>prompt</th>\n",
       "      <th>vector</th>\n",
       "    </tr>\n",
       "  </thead>\n",
       "  <tbody>\n",
       "    <tr>\n",
       "      <th>0</th>\n",
       "      <td>из-за отсутствие концентрации я плохо сплю.</td>\n",
       "      <td>{'vomiting': 0, 'breathlessness': 0, 'sweating...</td>\n",
       "    </tr>\n",
       "    <tr>\n",
       "      <th>1</th>\n",
       "      <td>интересно, это просто одышка или что-то более ...</td>\n",
       "      <td>{'vomiting': 0, 'breathlessness': 1, 'sweating...</td>\n",
       "    </tr>\n",
       "    <tr>\n",
       "      <th>2</th>\n",
       "      <td>невозможно сосредоточиться из-за головная боль.</td>\n",
       "      <td>{'vomiting': 0, 'breathlessness': 0, 'sweating...</td>\n",
       "    </tr>\n",
       "    <tr>\n",
       "      <th>3</th>\n",
       "      <td>мои друзья говорят, что боль в груди пройдет.</td>\n",
       "      <td>{'vomiting': 0, 'breathlessness': 0, 'sweating...</td>\n",
       "    </tr>\n",
       "    <tr>\n",
       "      <th>4</th>\n",
       "      <td>проблемы с головокружение не покидают меня.</td>\n",
       "      <td>{'vomiting': 0, 'breathlessness': 0, 'sweating...</td>\n",
       "    </tr>\n",
       "  </tbody>\n",
       "</table>\n",
       "</div>"
      ],
      "text/plain": [
       "                                              prompt  \\\n",
       "0        из-за отсутствие концентрации я плохо сплю.   \n",
       "1  интересно, это просто одышка или что-то более ...   \n",
       "2    невозможно сосредоточиться из-за головная боль.   \n",
       "3      мои друзья говорят, что боль в груди пройдет.   \n",
       "4        проблемы с головокружение не покидают меня.   \n",
       "\n",
       "                                              vector  \n",
       "0  {'vomiting': 0, 'breathlessness': 0, 'sweating...  \n",
       "1  {'vomiting': 0, 'breathlessness': 1, 'sweating...  \n",
       "2  {'vomiting': 0, 'breathlessness': 0, 'sweating...  \n",
       "3  {'vomiting': 0, 'breathlessness': 0, 'sweating...  \n",
       "4  {'vomiting': 0, 'breathlessness': 0, 'sweating...  "
      ]
     },
     "execution_count": 54,
     "metadata": {},
     "output_type": "execute_result"
    }
   ],
   "source": [
    "import pandas as pd\n",
    "df = pd.DataFrame(synthetic_data, columns=['prompt', 'vector'])\n",
    "print(df.shape)\n",
    "df.to_csv('syntetic_dataframe.csv', index=False)\n",
    "df.head()"
   ]
  },
  {
   "cell_type": "markdown",
   "metadata": {},
   "source": [
    "# Zero-shot-classification"
   ]
  },
  {
   "cell_type": "code",
   "execution_count": null,
   "metadata": {},
   "outputs": [
    {
     "name": "stderr",
     "output_type": "stream",
     "text": [
      "Hardware accelerator e.g. GPU is available in the environment, but no `device` argument is passed to the `Pipeline` object. Model will be on CPU.\n"
     ]
    }
   ],
   "source": [
    "from transformers import pipeline\n",
    "classifier = pipeline(\"zero-shot-classification\", model=\"facebook/bart-large-mnli\")\n",
    "def extract_features(text):\n",
    "    features = {\n",
    "    \"vomiting\": 0,\n",
    "    \"breathlessness\": 0,\n",
    "    \"sweating\": 0,\n",
    "    \"headache\": 0,\n",
    "    \"chest_pain\": 0,\n",
    "    \"dizziness\": 0,\n",
    "    \"loss_of_balance\": 0,\n",
    "    \"lack_of_concentration\": 0\n",
    "}\n",
    "    candidate_labels = [' '.join(elem.split('_')) for elem in features.keys()]  # ['vomiting', 'breathlessness', ..., 'loss of balance', 'lack of concentratition']\n",
    "    result = classifier(text, candidate_labels, multi_label=True)\n",
    "\n",
    "    for label, score in zip(result['labels'], result['scores']):\n",
    "        # print(f'{label}: {score}')\n",
    "        if score > 0.5:\n",
    "            features[label] = 1\n",
    "    return features"
   ]
  },
  {
   "cell_type": "code",
   "execution_count": 62,
   "metadata": {},
   "outputs": [],
   "source": [
    "df['classification_vector'] = df['prompt'].apply(extract_features)"
   ]
  },
  {
   "cell_type": "code",
   "execution_count": 64,
   "metadata": {},
   "outputs": [
    {
     "data": {
      "text/html": [
       "<div>\n",
       "<style scoped>\n",
       "    .dataframe tbody tr th:only-of-type {\n",
       "        vertical-align: middle;\n",
       "    }\n",
       "\n",
       "    .dataframe tbody tr th {\n",
       "        vertical-align: top;\n",
       "    }\n",
       "\n",
       "    .dataframe thead th {\n",
       "        text-align: right;\n",
       "    }\n",
       "</style>\n",
       "<table border=\"1\" class=\"dataframe\">\n",
       "  <thead>\n",
       "    <tr style=\"text-align: right;\">\n",
       "      <th></th>\n",
       "      <th>prompt</th>\n",
       "      <th>vector</th>\n",
       "      <th>classification_vector</th>\n",
       "    </tr>\n",
       "  </thead>\n",
       "  <tbody>\n",
       "    <tr>\n",
       "      <th>0</th>\n",
       "      <td>из-за отсутствие концентрации я плохо сплю.</td>\n",
       "      <td>{'vomiting': 0, 'breathlessness': 0, 'sweating...</td>\n",
       "      <td>{'vomiting': 0, 'breathlessness': 0, 'sweating...</td>\n",
       "    </tr>\n",
       "    <tr>\n",
       "      <th>1</th>\n",
       "      <td>интересно, это просто одышка или что-то более ...</td>\n",
       "      <td>{'vomiting': 0, 'breathlessness': 1, 'sweating...</td>\n",
       "      <td>{'vomiting': 0, 'breathlessness': 0, 'sweating...</td>\n",
       "    </tr>\n",
       "    <tr>\n",
       "      <th>2</th>\n",
       "      <td>невозможно сосредоточиться из-за головная боль.</td>\n",
       "      <td>{'vomiting': 0, 'breathlessness': 0, 'sweating...</td>\n",
       "      <td>{'vomiting': 0, 'breathlessness': 1, 'sweating...</td>\n",
       "    </tr>\n",
       "    <tr>\n",
       "      <th>3</th>\n",
       "      <td>мои друзья говорят, что боль в груди пройдет.</td>\n",
       "      <td>{'vomiting': 0, 'breathlessness': 0, 'sweating...</td>\n",
       "      <td>{'vomiting': 1, 'breathlessness': 1, 'sweating...</td>\n",
       "    </tr>\n",
       "    <tr>\n",
       "      <th>4</th>\n",
       "      <td>проблемы с головокружение не покидают меня.</td>\n",
       "      <td>{'vomiting': 0, 'breathlessness': 0, 'sweating...</td>\n",
       "      <td>{'vomiting': 0, 'breathlessness': 1, 'sweating...</td>\n",
       "    </tr>\n",
       "  </tbody>\n",
       "</table>\n",
       "</div>"
      ],
      "text/plain": [
       "                                              prompt  \\\n",
       "0        из-за отсутствие концентрации я плохо сплю.   \n",
       "1  интересно, это просто одышка или что-то более ...   \n",
       "2    невозможно сосредоточиться из-за головная боль.   \n",
       "3      мои друзья говорят, что боль в груди пройдет.   \n",
       "4        проблемы с головокружение не покидают меня.   \n",
       "\n",
       "                                              vector  \\\n",
       "0  {'vomiting': 0, 'breathlessness': 0, 'sweating...   \n",
       "1  {'vomiting': 0, 'breathlessness': 1, 'sweating...   \n",
       "2  {'vomiting': 0, 'breathlessness': 0, 'sweating...   \n",
       "3  {'vomiting': 0, 'breathlessness': 0, 'sweating...   \n",
       "4  {'vomiting': 0, 'breathlessness': 0, 'sweating...   \n",
       "\n",
       "                               classification_vector  \n",
       "0  {'vomiting': 0, 'breathlessness': 0, 'sweating...  \n",
       "1  {'vomiting': 0, 'breathlessness': 0, 'sweating...  \n",
       "2  {'vomiting': 0, 'breathlessness': 1, 'sweating...  \n",
       "3  {'vomiting': 1, 'breathlessness': 1, 'sweating...  \n",
       "4  {'vomiting': 0, 'breathlessness': 1, 'sweating...  "
      ]
     },
     "execution_count": 64,
     "metadata": {},
     "output_type": "execute_result"
    }
   ],
   "source": [
    "df.head()"
   ]
  },
  {
   "cell_type": "code",
   "execution_count": null,
   "metadata": {},
   "outputs": [],
   "source": [
    "def accuracy(row):\n",
    "    # моя псевдо метрика качества (определяет долю точно проставленных симтомов)\n",
    "    correct, symptoms = 0, 0\n",
    "    for key in row.vector.keys():\n",
    "        if row.vector[key] == row.classification_vector[key]:\n",
    "            correct += 1\n",
    "            symptoms += 1\n",
    "        else:\n",
    "            symptoms += 1\n",
    "    return correct / symptoms"
   ]
  },
  {
   "cell_type": "code",
   "execution_count": 66,
   "metadata": {},
   "outputs": [],
   "source": [
    "df['accuracy'] = df.apply(accuracy, axis=1)"
   ]
  },
  {
   "cell_type": "code",
   "execution_count": 74,
   "metadata": {},
   "outputs": [
    {
     "data": {
      "text/plain": [
       "np.float64(0.570625)"
      ]
     },
     "execution_count": 74,
     "metadata": {},
     "output_type": "execute_result"
    }
   ],
   "source": [
    "df.accuracy.mean()"
   ]
  },
  {
   "cell_type": "code",
   "execution_count": null,
   "metadata": {},
   "outputs": [],
   "source": [
    "df.to_csv('syntetic_dataframe_final.csv', index=False)"
   ]
  },
  {
   "cell_type": "code",
   "execution_count": 5,
   "metadata": {},
   "outputs": [
    {
     "name": "stdout",
     "output_type": "stream",
     "text": [
      "(2000, 4)\n"
     ]
    },
    {
     "data": {
      "text/html": [
       "<div>\n",
       "<style scoped>\n",
       "    .dataframe tbody tr th:only-of-type {\n",
       "        vertical-align: middle;\n",
       "    }\n",
       "\n",
       "    .dataframe tbody tr th {\n",
       "        vertical-align: top;\n",
       "    }\n",
       "\n",
       "    .dataframe thead th {\n",
       "        text-align: right;\n",
       "    }\n",
       "</style>\n",
       "<table border=\"1\" class=\"dataframe\">\n",
       "  <thead>\n",
       "    <tr style=\"text-align: right;\">\n",
       "      <th></th>\n",
       "      <th>user_prompt</th>\n",
       "      <th>true_symptoms</th>\n",
       "      <th>predicted_symptoms</th>\n",
       "      <th>accuracy</th>\n",
       "    </tr>\n",
       "  </thead>\n",
       "  <tbody>\n",
       "    <tr>\n",
       "      <th>0</th>\n",
       "      <td>из-за отсутствие концентрации я плохо сплю.</td>\n",
       "      <td>{'vomiting': 0, 'breathlessness': 0, 'sweating...</td>\n",
       "      <td>{'vomiting': 0, 'breathlessness': 0, 'sweating...</td>\n",
       "      <td>0.875</td>\n",
       "    </tr>\n",
       "    <tr>\n",
       "      <th>1</th>\n",
       "      <td>интересно, это просто одышка или что-то более ...</td>\n",
       "      <td>{'vomiting': 0, 'breathlessness': 1, 'sweating...</td>\n",
       "      <td>{'vomiting': 0, 'breathlessness': 0, 'sweating...</td>\n",
       "      <td>0.875</td>\n",
       "    </tr>\n",
       "    <tr>\n",
       "      <th>2</th>\n",
       "      <td>невозможно сосредоточиться из-за головная боль.</td>\n",
       "      <td>{'vomiting': 0, 'breathlessness': 0, 'sweating...</td>\n",
       "      <td>{'vomiting': 0, 'breathlessness': 1, 'sweating...</td>\n",
       "      <td>0.750</td>\n",
       "    </tr>\n",
       "    <tr>\n",
       "      <th>3</th>\n",
       "      <td>мои друзья говорят, что боль в груди пройдет.</td>\n",
       "      <td>{'vomiting': 0, 'breathlessness': 0, 'sweating...</td>\n",
       "      <td>{'vomiting': 1, 'breathlessness': 1, 'sweating...</td>\n",
       "      <td>0.375</td>\n",
       "    </tr>\n",
       "    <tr>\n",
       "      <th>4</th>\n",
       "      <td>проблемы с головокружение не покидают меня.</td>\n",
       "      <td>{'vomiting': 0, 'breathlessness': 0, 'sweating...</td>\n",
       "      <td>{'vomiting': 0, 'breathlessness': 1, 'sweating...</td>\n",
       "      <td>0.875</td>\n",
       "    </tr>\n",
       "  </tbody>\n",
       "</table>\n",
       "</div>"
      ],
      "text/plain": [
       "                                         user_prompt  \\\n",
       "0        из-за отсутствие концентрации я плохо сплю.   \n",
       "1  интересно, это просто одышка или что-то более ...   \n",
       "2    невозможно сосредоточиться из-за головная боль.   \n",
       "3      мои друзья говорят, что боль в груди пройдет.   \n",
       "4        проблемы с головокружение не покидают меня.   \n",
       "\n",
       "                                       true_symptoms  \\\n",
       "0  {'vomiting': 0, 'breathlessness': 0, 'sweating...   \n",
       "1  {'vomiting': 0, 'breathlessness': 1, 'sweating...   \n",
       "2  {'vomiting': 0, 'breathlessness': 0, 'sweating...   \n",
       "3  {'vomiting': 0, 'breathlessness': 0, 'sweating...   \n",
       "4  {'vomiting': 0, 'breathlessness': 0, 'sweating...   \n",
       "\n",
       "                                  predicted_symptoms  accuracy  \n",
       "0  {'vomiting': 0, 'breathlessness': 0, 'sweating...     0.875  \n",
       "1  {'vomiting': 0, 'breathlessness': 0, 'sweating...     0.875  \n",
       "2  {'vomiting': 0, 'breathlessness': 1, 'sweating...     0.750  \n",
       "3  {'vomiting': 1, 'breathlessness': 1, 'sweating...     0.375  \n",
       "4  {'vomiting': 0, 'breathlessness': 1, 'sweating...     0.875  "
      ]
     },
     "execution_count": 5,
     "metadata": {},
     "output_type": "execute_result"
    }
   ],
   "source": [
    "df = pd.read_csv('syntetic_dataframe_final.csv')\n",
    "df.columns = ['user_prompt', 'true_symptoms', 'predicted_symptoms', 'accuracy']\n",
    "print(df.shape)\n",
    "df.head()"
   ]
  }
 ],
 "metadata": {
  "kernelspec": {
   "display_name": "Python 3",
   "language": "python",
   "name": "python3"
  },
  "language_info": {
   "codemirror_mode": {
    "name": "ipython",
    "version": 3
   },
   "file_extension": ".py",
   "mimetype": "text/x-python",
   "name": "python",
   "nbconvert_exporter": "python",
   "pygments_lexer": "ipython3",
   "version": "3.13.0"
  }
 },
 "nbformat": 4,
 "nbformat_minor": 2
}
