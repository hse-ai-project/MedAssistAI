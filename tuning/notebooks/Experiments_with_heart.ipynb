{
  "cells": [
    {
      "cell_type": "code",
      "execution_count": 1,
      "metadata": {
        "id": "SImH-_RvgKy9"
      },
      "outputs": [],
      "source": [
        "import numpy as np\n",
        "import pandas as pd\n",
        "import matplotlib.pyplot as plt\n",
        "import seaborn as sns\n",
        "from sklearn.model_selection import train_test_split, cross_val_score, StratifiedKFold\n",
        "from sklearn.preprocessing import StandardScaler\n",
        "from sklearn.linear_model import LogisticRegression\n",
        "from sklearn.ensemble import RandomForestClassifier, GradientBoostingClassifier\n",
        "from sklearn.svm import SVC\n",
        "from sklearn.neural_network import MLPClassifier\n",
        "from sklearn.metrics import accuracy_score, classification_report, confusion_matrix, roc_auc_score, roc_curve\n",
        "from sklearn.pipeline import Pipeline\n",
        "import xgboost as xgb\n",
        "import lightgbm as lgb\n",
        "from time import time"
      ]
    },
    {
      "cell_type": "code",
      "execution_count": 2,
      "metadata": {
        "id": "eaO2BcP5gNug"
      },
      "outputs": [],
      "source": [
        "df = pd.read_csv('../../baseline/ivan_chernykh_baseline_cml/data/heart.csv')"
      ]
    },
    {
      "cell_type": "code",
      "execution_count": 3,
      "metadata": {
        "colab": {
          "base_uri": "https://localhost:8080/",
          "height": 320
        },
        "id": "ShvE0Hhg1CZs",
        "outputId": "1be0a8e2-8f33-48c7-c639-0c139b0acaeb"
      },
      "outputs": [
        {
          "data": {
            "text/html": [
              "<div>\n",
              "<style scoped>\n",
              "    .dataframe tbody tr th:only-of-type {\n",
              "        vertical-align: middle;\n",
              "    }\n",
              "\n",
              "    .dataframe tbody tr th {\n",
              "        vertical-align: top;\n",
              "    }\n",
              "\n",
              "    .dataframe thead th {\n",
              "        text-align: right;\n",
              "    }\n",
              "</style>\n",
              "<table border=\"1\" class=\"dataframe\">\n",
              "  <thead>\n",
              "    <tr style=\"text-align: right;\">\n",
              "      <th></th>\n",
              "      <th>Age</th>\n",
              "      <th>Sex</th>\n",
              "      <th>CheastPainType</th>\n",
              "      <th>RestingBP</th>\n",
              "      <th>Cholesterol</th>\n",
              "      <th>FastingBS</th>\n",
              "      <th>RestingECG</th>\n",
              "      <th>MaxHR</th>\n",
              "      <th>ExerciseAngina</th>\n",
              "      <th>Oldpeak</th>\n",
              "      <th>ST_Slope</th>\n",
              "      <th>NumMajorVessels</th>\n",
              "      <th>Thal</th>\n",
              "      <th>Target</th>\n",
              "    </tr>\n",
              "  </thead>\n",
              "  <tbody>\n",
              "    <tr>\n",
              "      <th>count</th>\n",
              "      <td>1025.000000</td>\n",
              "      <td>1025.000000</td>\n",
              "      <td>1025.000000</td>\n",
              "      <td>1025.000000</td>\n",
              "      <td>1025.00000</td>\n",
              "      <td>1025.000000</td>\n",
              "      <td>1025.000000</td>\n",
              "      <td>1025.000000</td>\n",
              "      <td>1025.000000</td>\n",
              "      <td>1025.000000</td>\n",
              "      <td>1025.000000</td>\n",
              "      <td>1025.000000</td>\n",
              "      <td>1025.000000</td>\n",
              "      <td>1025.000000</td>\n",
              "    </tr>\n",
              "    <tr>\n",
              "      <th>mean</th>\n",
              "      <td>54.434146</td>\n",
              "      <td>0.695610</td>\n",
              "      <td>0.942439</td>\n",
              "      <td>131.611707</td>\n",
              "      <td>246.00000</td>\n",
              "      <td>0.149268</td>\n",
              "      <td>0.529756</td>\n",
              "      <td>149.114146</td>\n",
              "      <td>0.336585</td>\n",
              "      <td>1.071512</td>\n",
              "      <td>1.385366</td>\n",
              "      <td>0.754146</td>\n",
              "      <td>2.323902</td>\n",
              "      <td>0.513171</td>\n",
              "    </tr>\n",
              "    <tr>\n",
              "      <th>std</th>\n",
              "      <td>9.072290</td>\n",
              "      <td>0.460373</td>\n",
              "      <td>1.029641</td>\n",
              "      <td>17.516718</td>\n",
              "      <td>51.59251</td>\n",
              "      <td>0.356527</td>\n",
              "      <td>0.527878</td>\n",
              "      <td>23.005724</td>\n",
              "      <td>0.472772</td>\n",
              "      <td>1.175053</td>\n",
              "      <td>0.617755</td>\n",
              "      <td>1.030798</td>\n",
              "      <td>0.620660</td>\n",
              "      <td>0.500070</td>\n",
              "    </tr>\n",
              "    <tr>\n",
              "      <th>min</th>\n",
              "      <td>29.000000</td>\n",
              "      <td>0.000000</td>\n",
              "      <td>0.000000</td>\n",
              "      <td>94.000000</td>\n",
              "      <td>126.00000</td>\n",
              "      <td>0.000000</td>\n",
              "      <td>0.000000</td>\n",
              "      <td>71.000000</td>\n",
              "      <td>0.000000</td>\n",
              "      <td>0.000000</td>\n",
              "      <td>0.000000</td>\n",
              "      <td>0.000000</td>\n",
              "      <td>0.000000</td>\n",
              "      <td>0.000000</td>\n",
              "    </tr>\n",
              "    <tr>\n",
              "      <th>25%</th>\n",
              "      <td>48.000000</td>\n",
              "      <td>0.000000</td>\n",
              "      <td>0.000000</td>\n",
              "      <td>120.000000</td>\n",
              "      <td>211.00000</td>\n",
              "      <td>0.000000</td>\n",
              "      <td>0.000000</td>\n",
              "      <td>132.000000</td>\n",
              "      <td>0.000000</td>\n",
              "      <td>0.000000</td>\n",
              "      <td>1.000000</td>\n",
              "      <td>0.000000</td>\n",
              "      <td>2.000000</td>\n",
              "      <td>0.000000</td>\n",
              "    </tr>\n",
              "    <tr>\n",
              "      <th>50%</th>\n",
              "      <td>56.000000</td>\n",
              "      <td>1.000000</td>\n",
              "      <td>1.000000</td>\n",
              "      <td>130.000000</td>\n",
              "      <td>240.00000</td>\n",
              "      <td>0.000000</td>\n",
              "      <td>1.000000</td>\n",
              "      <td>152.000000</td>\n",
              "      <td>0.000000</td>\n",
              "      <td>0.800000</td>\n",
              "      <td>1.000000</td>\n",
              "      <td>0.000000</td>\n",
              "      <td>2.000000</td>\n",
              "      <td>1.000000</td>\n",
              "    </tr>\n",
              "    <tr>\n",
              "      <th>75%</th>\n",
              "      <td>61.000000</td>\n",
              "      <td>1.000000</td>\n",
              "      <td>2.000000</td>\n",
              "      <td>140.000000</td>\n",
              "      <td>275.00000</td>\n",
              "      <td>0.000000</td>\n",
              "      <td>1.000000</td>\n",
              "      <td>166.000000</td>\n",
              "      <td>1.000000</td>\n",
              "      <td>1.800000</td>\n",
              "      <td>2.000000</td>\n",
              "      <td>1.000000</td>\n",
              "      <td>3.000000</td>\n",
              "      <td>1.000000</td>\n",
              "    </tr>\n",
              "    <tr>\n",
              "      <th>max</th>\n",
              "      <td>77.000000</td>\n",
              "      <td>1.000000</td>\n",
              "      <td>3.000000</td>\n",
              "      <td>200.000000</td>\n",
              "      <td>564.00000</td>\n",
              "      <td>1.000000</td>\n",
              "      <td>2.000000</td>\n",
              "      <td>202.000000</td>\n",
              "      <td>1.000000</td>\n",
              "      <td>6.200000</td>\n",
              "      <td>2.000000</td>\n",
              "      <td>4.000000</td>\n",
              "      <td>3.000000</td>\n",
              "      <td>1.000000</td>\n",
              "    </tr>\n",
              "  </tbody>\n",
              "</table>\n",
              "</div>"
            ],
            "text/plain": [
              "               Age          Sex  CheastPainType    RestingBP  Cholesterol  \\\n",
              "count  1025.000000  1025.000000     1025.000000  1025.000000   1025.00000   \n",
              "mean     54.434146     0.695610        0.942439   131.611707    246.00000   \n",
              "std       9.072290     0.460373        1.029641    17.516718     51.59251   \n",
              "min      29.000000     0.000000        0.000000    94.000000    126.00000   \n",
              "25%      48.000000     0.000000        0.000000   120.000000    211.00000   \n",
              "50%      56.000000     1.000000        1.000000   130.000000    240.00000   \n",
              "75%      61.000000     1.000000        2.000000   140.000000    275.00000   \n",
              "max      77.000000     1.000000        3.000000   200.000000    564.00000   \n",
              "\n",
              "         FastingBS   RestingECG        MaxHR  ExerciseAngina      Oldpeak  \\\n",
              "count  1025.000000  1025.000000  1025.000000     1025.000000  1025.000000   \n",
              "mean      0.149268     0.529756   149.114146        0.336585     1.071512   \n",
              "std       0.356527     0.527878    23.005724        0.472772     1.175053   \n",
              "min       0.000000     0.000000    71.000000        0.000000     0.000000   \n",
              "25%       0.000000     0.000000   132.000000        0.000000     0.000000   \n",
              "50%       0.000000     1.000000   152.000000        0.000000     0.800000   \n",
              "75%       0.000000     1.000000   166.000000        1.000000     1.800000   \n",
              "max       1.000000     2.000000   202.000000        1.000000     6.200000   \n",
              "\n",
              "          ST_Slope  NumMajorVessels         Thal       Target  \n",
              "count  1025.000000      1025.000000  1025.000000  1025.000000  \n",
              "mean      1.385366         0.754146     2.323902     0.513171  \n",
              "std       0.617755         1.030798     0.620660     0.500070  \n",
              "min       0.000000         0.000000     0.000000     0.000000  \n",
              "25%       1.000000         0.000000     2.000000     0.000000  \n",
              "50%       1.000000         0.000000     2.000000     1.000000  \n",
              "75%       2.000000         1.000000     3.000000     1.000000  \n",
              "max       2.000000         4.000000     3.000000     1.000000  "
            ]
          },
          "execution_count": 3,
          "metadata": {},
          "output_type": "execute_result"
        }
      ],
      "source": [
        "df.describe()"
      ]
    },
    {
      "cell_type": "code",
      "execution_count": 4,
      "metadata": {
        "id": "vKQAcztsiHMc"
      },
      "outputs": [],
      "source": [
        "X = df.drop('Target', axis=1)\n",
        "y = df['Target']\n",
        "\n",
        "# Разделяем данные на обучающую и тестовую выборки\n",
        "X_train, X_test, y_train, y_test = train_test_split(X, y, test_size=0.25, random_state=42, stratify=y)"
      ]
    },
    {
      "cell_type": "code",
      "execution_count": 5,
      "metadata": {},
      "outputs": [
        {
          "data": {
            "text/plain": [
              "153.6"
            ]
          },
          "execution_count": 5,
          "metadata": {},
          "output_type": "execute_result"
        }
      ],
      "source": [
        "X_train.shape[0]/5"
      ]
    },
    {
      "cell_type": "code",
      "execution_count": 6,
      "metadata": {
        "id": "K08flV9EiKNH"
      },
      "outputs": [],
      "source": [
        "lgb_params = {\n",
        "    'objective': 'binary',\n",
        "    'metric': 'binary_logloss',\n",
        "    'boosting_type': 'gbdt',\n",
        "    'lambda_l1': 0,\n",
        "    'lambda_l2': 1e-5,\n",
        "    'min_child_samples': 5,\n",
        "    'min_child_weight': 1e-5,\n",
        "    'max_depth': 5,\n",
        "    'learning_rate': 0.1,\n",
        "    'feature_fraction': 0.8,\n",
        "    'bagging_fraction': 0.8,\n",
        "    'bagging_freq': 5,\n",
        "    'min_split_gain': 0,\n",
        "    'verbose': -1,\n",
        "    'random_state': 42\n",
        "}\n",
        "\n",
        "# Создаем словарь моделей для тестирования\n",
        "models = {\n",
        "    'Логистическая регрессия': Pipeline([\n",
        "        ('scaler', StandardScaler()),\n",
        "        ('model', LogisticRegression(max_iter=1000, random_state=42))\n",
        "    ]),\n",
        "    'Случайный лес': RandomForestClassifier(n_estimators=100, random_state=42),\n",
        "    'Градиентный бустинг': GradientBoostingClassifier(n_estimators=100, random_state=42),\n",
        "    'XGBoost': xgb.XGBClassifier(n_estimators=100, random_state=42),\n",
        "    'LightGBM': lgb.LGBMClassifier(**lgb_params),\n",
        "    'SVM': Pipeline([\n",
        "        ('scaler', StandardScaler()),\n",
        "        ('model', SVC(probability=True, random_state=42))\n",
        "    ]),\n",
        "    'Нейронная сеть': Pipeline([\n",
        "        ('scaler', StandardScaler()),\n",
        "        ('model', MLPClassifier(hidden_layer_sizes=(64, 32), max_iter=500, random_state=42))\n",
        "    ])\n",
        "}"
      ]
    },
    {
      "cell_type": "code",
      "execution_count": 7,
      "metadata": {
        "id": "CC8wl2c4iPkA"
      },
      "outputs": [],
      "source": [
        "results = {'Модель': [], 'Accuracy (CV)': [], 'AUC (CV)': [], 'Accuracy (Тест)': [], 'AUC (Тест)': [], 'Время обучения (с)': []}"
      ]
    },
    {
      "cell_type": "code",
      "execution_count": 8,
      "metadata": {
        "colab": {
          "base_uri": "https://localhost:8080/"
        },
        "id": "ANC5NXEoiXJC",
        "outputId": "e54fad00-eb84-4eef-be15-7c9189430c39"
      },
      "outputs": [
        {
          "name": "stdout",
          "output_type": "stream",
          "text": [
            "Обучаем модель: Логистическая регрессия\n",
            "Логистическая регрессия: Accuracy (CV) = 0.8515, AUC (CV) = 0.9138, Accuracy (Тест) = 0.8249, AUC (Тест) = 0.9298, Время: 0.01с\n",
            "\n",
            "Обучаем модель: Случайный лес\n",
            "Случайный лес: Accuracy (CV) = 0.9844, AUC (CV) = 0.9988, Accuracy (Тест) = 1.0000, AUC (Тест) = 1.0000, Время: 0.11с\n",
            "\n",
            "Обучаем модель: Градиентный бустинг\n",
            "Градиентный бустинг: Accuracy (CV) = 0.9662, AUC (CV) = 0.9848, Accuracy (Тест) = 0.9572, AUC (Тест) = 0.9902, Время: 0.13с\n",
            "\n",
            "Обучаем модель: XGBoost\n",
            "XGBoost: Accuracy (CV) = 0.9779, AUC (CV) = 0.9917, Accuracy (Тест) = 1.0000, AUC (Тест) = 1.0000, Время: 0.04с\n",
            "\n",
            "Обучаем модель: LightGBM\n",
            "LightGBM: Accuracy (CV) = 0.9740, AUC (CV) = 0.9962, Accuracy (Тест) = 1.0000, AUC (Тест) = 1.0000, Время: 0.08с\n",
            "\n",
            "Обучаем модель: SVM\n",
            "SVM: Accuracy (CV) = 0.9075, AUC (CV) = 0.9630, Accuracy (Тест) = 0.9066, AUC (Тест) = 0.9738, Время: 0.05с\n",
            "\n",
            "Обучаем модель: Нейронная сеть\n",
            "Нейронная сеть: Accuracy (CV) = 0.9766, AUC (CV) = 0.9869, Accuracy (Тест) = 1.0000, AUC (Тест) = 1.0000, Время: 0.70с\n",
            "\n"
          ]
        }
      ],
      "source": [
        "cv = StratifiedKFold(n_splits=5, shuffle=True, random_state=42)\n",
        "\n",
        "for name, model in models.items():\n",
        "    print(f\"Обучаем модель: {name}\")\n",
        "\n",
        "    start_time = time()\n",
        "\n",
        "    model.fit(X_train, y_train)\n",
        "\n",
        "    train_time = time() - start_time\n",
        "\n",
        "    cv_accuracy = cross_val_score(model, X_train, y_train, cv=cv, scoring='accuracy').mean()\n",
        "\n",
        "    if hasattr(model, 'predict_proba'):\n",
        "        cv_auc = cross_val_score(model, X_train, y_train, cv=cv, scoring='roc_auc').mean()\n",
        "    else:\n",
        "        cv_auc = np.nan\n",
        "\n",
        "    y_pred = model.predict(X_test)\n",
        "\n",
        "    if hasattr(model, 'predict_proba'):\n",
        "        y_pred_proba = model.predict_proba(X_test)[:, 1]\n",
        "        test_auc = roc_auc_score(y_test, y_pred_proba)\n",
        "    else:\n",
        "        test_auc = np.nan\n",
        "\n",
        "    test_accuracy = accuracy_score(y_test, y_pred)\n",
        "\n",
        "    results['Модель'].append(name)\n",
        "    results['Accuracy (CV)'].append(cv_accuracy)\n",
        "    results['AUC (CV)'].append(cv_auc)\n",
        "    results['Accuracy (Тест)'].append(test_accuracy)\n",
        "    results['AUC (Тест)'].append(test_auc)\n",
        "    results['Время обучения (с)'].append(train_time)\n",
        "\n",
        "    print(f\"{name}: Accuracy (CV) = {cv_accuracy:.4f}, AUC (CV) = {cv_auc:.4f}, \"\n",
        "          f\"Accuracy (Тест) = {test_accuracy:.4f}, AUC (Тест) = {test_auc:.4f}, \"\n",
        "          f\"Время: {train_time:.2f}с\\n\")"
      ]
    },
    {
      "cell_type": "code",
      "execution_count": 9,
      "metadata": {
        "colab": {
          "base_uri": "https://localhost:8080/",
          "height": 269
        },
        "id": "1IfhW5d2l-Fz",
        "outputId": "d21c2226-cf6c-474f-8270-33120f3037f3"
      },
      "outputs": [
        {
          "data": {
            "text/html": [
              "<div>\n",
              "<style scoped>\n",
              "    .dataframe tbody tr th:only-of-type {\n",
              "        vertical-align: middle;\n",
              "    }\n",
              "\n",
              "    .dataframe tbody tr th {\n",
              "        vertical-align: top;\n",
              "    }\n",
              "\n",
              "    .dataframe thead th {\n",
              "        text-align: right;\n",
              "    }\n",
              "</style>\n",
              "<table border=\"1\" class=\"dataframe\">\n",
              "  <thead>\n",
              "    <tr style=\"text-align: right;\">\n",
              "      <th></th>\n",
              "      <th>Модель</th>\n",
              "      <th>Accuracy (CV)</th>\n",
              "      <th>AUC (CV)</th>\n",
              "      <th>Accuracy (Тест)</th>\n",
              "      <th>AUC (Тест)</th>\n",
              "      <th>Время обучения (с)</th>\n",
              "    </tr>\n",
              "  </thead>\n",
              "  <tbody>\n",
              "    <tr>\n",
              "      <th>1</th>\n",
              "      <td>Случайный лес</td>\n",
              "      <td>0.984399</td>\n",
              "      <td>0.998785</td>\n",
              "      <td>1.000000</td>\n",
              "      <td>1.000000</td>\n",
              "      <td>0.108877</td>\n",
              "    </tr>\n",
              "    <tr>\n",
              "      <th>3</th>\n",
              "      <td>XGBoost</td>\n",
              "      <td>0.977905</td>\n",
              "      <td>0.991749</td>\n",
              "      <td>1.000000</td>\n",
              "      <td>1.000000</td>\n",
              "      <td>0.039948</td>\n",
              "    </tr>\n",
              "    <tr>\n",
              "      <th>4</th>\n",
              "      <td>LightGBM</td>\n",
              "      <td>0.973992</td>\n",
              "      <td>0.996219</td>\n",
              "      <td>1.000000</td>\n",
              "      <td>1.000000</td>\n",
              "      <td>0.076432</td>\n",
              "    </tr>\n",
              "    <tr>\n",
              "      <th>6</th>\n",
              "      <td>Нейронная сеть</td>\n",
              "      <td>0.976606</td>\n",
              "      <td>0.986851</td>\n",
              "      <td>1.000000</td>\n",
              "      <td>1.000000</td>\n",
              "      <td>0.697096</td>\n",
              "    </tr>\n",
              "    <tr>\n",
              "      <th>2</th>\n",
              "      <td>Градиентный бустинг</td>\n",
              "      <td>0.966166</td>\n",
              "      <td>0.984846</td>\n",
              "      <td>0.957198</td>\n",
              "      <td>0.990242</td>\n",
              "      <td>0.134826</td>\n",
              "    </tr>\n",
              "    <tr>\n",
              "      <th>5</th>\n",
              "      <td>SVM</td>\n",
              "      <td>0.907495</td>\n",
              "      <td>0.962970</td>\n",
              "      <td>0.906615</td>\n",
              "      <td>0.973758</td>\n",
              "      <td>0.046878</td>\n",
              "    </tr>\n",
              "    <tr>\n",
              "      <th>0</th>\n",
              "      <td>Логистическая регрессия</td>\n",
              "      <td>0.851490</td>\n",
              "      <td>0.913784</td>\n",
              "      <td>0.824903</td>\n",
              "      <td>0.929818</td>\n",
              "      <td>0.006932</td>\n",
              "    </tr>\n",
              "  </tbody>\n",
              "</table>\n",
              "</div>"
            ],
            "text/plain": [
              "                    Модель  Accuracy (CV)  AUC (CV)  Accuracy (Тест)  \\\n",
              "1            Случайный лес       0.984399  0.998785         1.000000   \n",
              "3                  XGBoost       0.977905  0.991749         1.000000   \n",
              "4                 LightGBM       0.973992  0.996219         1.000000   \n",
              "6           Нейронная сеть       0.976606  0.986851         1.000000   \n",
              "2      Градиентный бустинг       0.966166  0.984846         0.957198   \n",
              "5                      SVM       0.907495  0.962970         0.906615   \n",
              "0  Логистическая регрессия       0.851490  0.913784         0.824903   \n",
              "\n",
              "   AUC (Тест)  Время обучения (с)  \n",
              "1    1.000000            0.108877  \n",
              "3    1.000000            0.039948  \n",
              "4    1.000000            0.076432  \n",
              "6    1.000000            0.697096  \n",
              "2    0.990242            0.134826  \n",
              "5    0.973758            0.046878  \n",
              "0    0.929818            0.006932  "
            ]
          },
          "execution_count": 9,
          "metadata": {},
          "output_type": "execute_result"
        }
      ],
      "source": [
        "results_df = pd.DataFrame(results)\n",
        "results_df.sort_values(by='AUC (Тест)', ascending=False)"
      ]
    },
    {
      "cell_type": "code",
      "execution_count": 10,
      "metadata": {
        "colab": {
          "base_uri": "https://localhost:8080/",
          "height": 827
        },
        "id": "3XI-o2Epmg0Y",
        "outputId": "fc6ffbd5-a872-48fc-9d41-05d61d60a79f"
      },
      "outputs": [
        {
          "data": {
            "image/png": "[encoded data removed]",
            "text/plain": [
              "<Figure size 1400x800 with 2 Axes>"
            ]
          },
          "metadata": {},
          "output_type": "display_data"
        }
      ],
      "source": [
        "# Визуализация результатов\n",
        "plt.figure(figsize=(14, 8))\n",
        "\n",
        "# Сравнение точности\n",
        "plt.subplot(1, 2, 1)\n",
        "sns.barplot(x='Accuracy (Тест)', y='Модель', data=results_df.sort_values(by='Accuracy (Тест)', ascending=False))\n",
        "plt.title('Сравнение точности моделей')\n",
        "plt.grid(axis='x', linestyle='--', alpha=0.7)\n",
        "\n",
        "# Сравнение AUC\n",
        "plt.subplot(1, 2, 2)\n",
        "sns.barplot(x='AUC (Тест)', y='Модель', data=results_df.sort_values(by='AUC (Тест)', ascending=False))\n",
        "plt.title('Сравнение AUC моделей')\n",
        "plt.grid(axis='x', linestyle='--', alpha=0.7)\n",
        "\n",
        "plt.tight_layout()\n",
        "plt.savefig(\"model_comparison.png\")\n",
        "plt.show()"
      ]
    },
    {
      "cell_type": "code",
      "execution_count": 11,
      "metadata": {
        "colab": {
          "base_uri": "https://localhost:8080/",
          "height": 607
        },
        "id": "LOVaE4fimtWH",
        "outputId": "1676ab4f-a7b7-4d42-db01-ccd029aaaff8"
      },
      "outputs": [
        {
          "data": {
            "image/png": "[encoded data removed]",
            "text/plain": [
              "<Figure size 1000x600 with 1 Axes>"
            ]
          },
          "metadata": {},
          "output_type": "display_data"
        }
      ],
      "source": [
        "# Анализ важности признаков для лучшей модели (Случайный лес)\n",
        "model = models['Случайный лес']\n",
        "\n",
        "importances = model.feature_importances_\n",
        "\n",
        "feature_imp = pd.DataFrame({\n",
        "    'Признак': X.columns,\n",
        "    'Важность': importances\n",
        "}).sort_values(by='Важность', ascending=False)\n",
        "\n",
        "plt.figure(figsize=(10, 6))\n",
        "sns.barplot(x='Важность', y='Признак', data=feature_imp)\n",
        "plt.title(f'Важность признаков для Случайного леса')\n",
        "plt.grid(axis='x', linestyle='--', alpha=0.7)\n",
        "plt.tight_layout()\n",
        "plt.savefig(\"feature_importance.png\")\n",
        "plt.show()"
      ]
    },
    {
      "cell_type": "code",
      "execution_count": 12,
      "metadata": {
        "id": "KuCv2ZXJpiht"
      },
      "outputs": [],
      "source": [
        "from sklearn.model_selection import GridSearchCV"
      ]
    },
    {
      "cell_type": "code",
      "execution_count": 13,
      "metadata": {
        "id": "WcMIOBukplB-"
      },
      "outputs": [],
      "source": [
        "# Найдем оптимальные гиперпараметры для случайного леса\n",
        "param_grid = {\n",
        "    'n_estimators': [100, 200],\n",
        "    'max_depth': [None, 10, 20],\n",
        "    'min_samples_split': [2, 5, 10],\n",
        "    'min_samples_leaf': [1, 2, 4]\n",
        "}\n",
        "\n",
        "model = RandomForestClassifier(random_state=42)"
      ]
    },
    {
      "cell_type": "code",
      "execution_count": 14,
      "metadata": {
        "colab": {
          "base_uri": "https://localhost:8080/"
        },
        "id": "bgCcv4Igp_HD",
        "outputId": "4c859d7d-e404-4592-db38-3b1eddc55618"
      },
      "outputs": [
        {
          "name": "stdout",
          "output_type": "stream",
          "text": [
            "Fitting 5 folds for each of 54 candidates, totalling 270 fits\n",
            "Лучшие параметры: {'max_depth': None, 'min_samples_leaf': 1, 'min_samples_split': 2, 'n_estimators': 100}\n"
          ]
        }
      ],
      "source": [
        "grid_search = GridSearchCV(\n",
        "    model, param_grid, cv=cv, scoring='roc_auc', n_jobs=-1, verbose=1\n",
        ")\n",
        "\n",
        "grid_search.fit(X_train, y_train)\n",
        "\n",
        "print(f\"Лучшие параметры: {grid_search.best_params_}\")"
      ]
    },
    {
      "cell_type": "code",
      "execution_count": 15,
      "metadata": {
        "colab": {
          "base_uri": "https://localhost:8080/"
        },
        "id": "0SkrFAN1qHUg",
        "outputId": "938c0b84-6797-4ea1-8d56-7d701fbbb793"
      },
      "outputs": [
        {
          "name": "stdout",
          "output_type": "stream",
          "text": [
            "Точность на тестовой выборке: 1.0000\n",
            "AUC на тестовой выборке: 1.0000\n"
          ]
        }
      ],
      "source": [
        " # Оцениваем на тестовой выборке\n",
        "best_model = grid_search.best_estimator_\n",
        "y_pred = best_model.predict(X_test)\n",
        "y_pred_proba = best_model.predict_proba(X_test)[:, 1]\n",
        "\n",
        "test_accuracy = accuracy_score(y_test, y_pred)\n",
        "test_auc = roc_auc_score(y_test, y_pred_proba)\n",
        "\n",
        "print(f\"Точность на тестовой выборке: {test_accuracy:.4f}\")\n",
        "print(f\"AUC на тестовой выборке: {test_auc:.4f}\")"
      ]
    },
    {
      "cell_type": "markdown",
      "metadata": {},
      "source": [
        "Очевидно, что сильные классификаторы на столь малом объёме данный (около 150 сэмплов на одном фолде кросс-валидации) приводят к переобучению (линейной или практически линейной зависимости в виду того, что находятся слишком точные веса, тем более на решающих деревьях).\n",
        "Наиболее вероятными к использованию кажутся модели логистической регрессии и SVM. Для их внедрения стоит их проверить на адекватность через Dummy Classifier, однако в целом переобучение на них незначительно и имеет смысл их использовать на сервисе."
      ]
    }
  ],
  "metadata": {
    "colab": {
      "provenance": []
    },
    "kernelspec": {
      "display_name": ".venv",
      "language": "python",
      "name": "python3"
    },
    "language_info": {
      "codemirror_mode": {
        "name": "ipython",
        "version": 3
      },
      "file_extension": ".py",
      "mimetype": "text/x-python",
      "name": "python",
      "nbconvert_exporter": "python",
      "pygments_lexer": "ipython3",
      "version": "3.11.9"
    }
  },
  "nbformat": 4,
  "nbformat_minor": 0
}
