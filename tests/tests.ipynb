{
 "cells": [
  {
   "cell_type": "code",
   "execution_count": 7,
   "metadata": {},
   "outputs": [],
   "source": [
    "import joblib\n",
    "import numpy as np\n",
    "from all_funcs import HeartDataImputer, HeartBasedPredictor, CardioTrainBasePredictor, PredictorComposer\n",
    "import warnings\n",
    "warnings.filterwarnings('ignore')"
   ]
  },
  {
   "cell_type": "code",
   "execution_count": 8,
   "metadata": {},
   "outputs": [],
   "source": [
    "model = joblib.load(\"..\\\\service\\\\models\\\\PipelineInstance.pickle\")"
   ]
  },
  {
   "cell_type": "code",
   "execution_count": 10,
   "metadata": {},
   "outputs": [
    {
     "data": {
      "text/plain": [
       "array([0])"
      ]
     },
     "execution_count": 10,
     "metadata": {},
     "output_type": "execute_result"
    }
   ],
   "source": [
    "test_data = {\n",
    "    'Age': 45,\n",
    "    'Sex': 0,\n",
    "    'CheastPainType': None,\n",
    "    'RestingBP': 130,\n",
    "    'Cholesterol': None,\n",
    "    'FastingBS': 1,\n",
    "    'RestingECG': None,\n",
    "    'MaxHR': 145,\n",
    "    'ExerciseAngina': None,\n",
    "    'Oldpeak': 2.5,\n",
    "    'ST_Slope': None,\n",
    "    'NumMajorVessels': None,\n",
    "    'Thal': 2,\n",
    "    'age': 65,\n",
    "    'gender': 1,\n",
    "    'height': 168.0,\n",
    "    'weight': 62.0,\n",
    "    'ap_hi': 110,\n",
    "    'ap_lo': 80,\n",
    "    'cholesterol': 0,\n",
    "    'gluc': 0,\n",
    "    'smoke': 0,\n",
    "    'alco': 0,\n",
    "    'active': 1\n",
    "}\n",
    "\n",
    "model.predict(test_data).astype(int)"
   ]
  },
  {
   "cell_type": "code",
   "execution_count": null,
   "metadata": {},
   "outputs": [],
   "source": []
  }
 ],
 "metadata": {
  "kernelspec": {
   "display_name": "Python 3",
   "language": "python",
   "name": "python3"
  },
  "language_info": {
   "codemirror_mode": {
    "name": "ipython",
    "version": 3
   },
   "file_extension": ".py",
   "mimetype": "text/x-python",
   "name": "python",
   "nbconvert_exporter": "python",
   "pygments_lexer": "ipython3",
   "version": "3.13.0"
  }
 },
 "nbformat": 4,
 "nbformat_minor": 2
}
