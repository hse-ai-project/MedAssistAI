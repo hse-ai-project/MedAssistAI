{
 "cells": [
  {
   "cell_type": "code",
   "execution_count": 1,
   "metadata": {},
   "outputs": [],
   "source": [
    "import pandas as pd\n",
    "import numpy as np\n",
    "from typing import List, Dict, Any\n",
    "from sklearn.impute import SimpleImputer\n",
    "from sklearn.model_selection import KFold\n",
    "from sklearn.preprocessing import StandardScaler\n",
    "from sklearn.linear_model import LogisticRegression\n",
    "from xgboost import XGBClassifier, DMatrix\n",
    "import joblib\n",
    "\n",
    "import sys\n",
    "sys.path.append('C:\\\\Users\\\\Daniil\\\\Desktop\\\\Python\\\\hse_project\\\\backend\\\\api\\\\model_classes')\n",
    "\n",
    "from model_classes import HeartDataImputer, HeartBasedPredictor, CardioTrainBasePredictor, PredictorComposer"
   ]
  },
  {
   "cell_type": "code",
   "execution_count": 2,
   "metadata": {},
   "outputs": [],
   "source": [
    "df_1 = pd.read_csv('..\\\\baseline\\\\ivan_chernykh_baseline_cml\\\\data\\\\heart.csv')\n",
    "df_2 = pd.read_parquet(\"..\\\\baseline\\\\daniil_vasilev_baseline_cml\\\\data\\\\cardio_train_correct.parquet\")"
   ]
  },
  {
   "cell_type": "code",
   "execution_count": 4,
   "metadata": {},
   "outputs": [],
   "source": [
    "feature_1 = df_1.drop('Target', axis=1).to_dict()\n",
    "target_1 = df_1['Target']\n",
    "\n",
    "feature_2 = df_2.drop(['cardio', 'id'], axis=1).to_dict()\n",
    "target_2 = df_2['cardio']"
   ]
  },
  {
   "cell_type": "code",
   "execution_count": 5,
   "metadata": {},
   "outputs": [
    {
     "data": {
      "text/plain": [
       "<model_classes.PredictorComposer at 0x1388914b380>"
      ]
     },
     "execution_count": 5,
     "metadata": {},
     "output_type": "execute_result"
    }
   ],
   "source": [
    "PredictorComposer(heart_based_predictor=HeartBasedPredictor(), \n",
    "                 cardio_train_based_predictor=CardioTrainBasePredictor()).fit(X1=feature_1, y1=target_1, X2=feature_2, y2=target_2)"
   ]
  },
  {
   "cell_type": "code",
   "execution_count": 6,
   "metadata": {},
   "outputs": [],
   "source": [
    "test_data = {\n",
    "    'Age': 45,\n",
    "    'Sex': 0,\n",
    "    'CheastPainType': None,\n",
    "    'RestingBP': 130,\n",
    "    'Cholesterol': None,\n",
    "    'FastingBS': 1,\n",
    "    'RestingECG': None,\n",
    "    'MaxHR': 145,\n",
    "    'ExerciseAngina': None,\n",
    "    'Oldpeak': 2.5,\n",
    "    'ST_Slope': None,\n",
    "    'NumMajorVessels': None,\n",
    "    'Thal': 2,\n",
    "    'age': 65,\n",
    "    'gender': 1,\n",
    "    'height': 168.0,\n",
    "    'weight': 62.0,\n",
    "    'ap_hi': 110,\n",
    "    'ap_lo': 80,\n",
    "    'cholesterol': 0,\n",
    "    'gluc': 0,\n",
    "    'smoke': 0,\n",
    "    'alco': 0,\n",
    "    'active': 1\n",
    "}"
   ]
  },
  {
   "cell_type": "code",
   "execution_count": 7,
   "metadata": {},
   "outputs": [
    {
     "name": "stdout",
     "output_type": "stream",
     "text": [
      "age              int64\n",
      "gender           int64\n",
      "height         float64\n",
      "weight         float64\n",
      "ap_hi            int64\n",
      "ap_lo            int64\n",
      "cholesterol      int64\n",
      "gluc             int64\n",
      "smoke            int64\n",
      "alco             int64\n",
      "active           int64\n",
      "dtype: object\n"
     ]
    },
    {
     "data": {
      "text/plain": [
       "0.31306684017181396"
      ]
     },
     "execution_count": 7,
     "metadata": {},
     "output_type": "execute_result"
    }
   ],
   "source": [
    "model = joblib.load('model_0.pickle')\n",
    "model.predict(test_data)"
   ]
  }
 ],
 "metadata": {
  "kernelspec": {
   "display_name": "Python 3",
   "language": "python",
   "name": "python3"
  },
  "language_info": {
   "codemirror_mode": {
    "name": "ipython",
    "version": 3
   },
   "file_extension": ".py",
   "mimetype": "text/x-python",
   "name": "python",
   "nbconvert_exporter": "python",
   "pygments_lexer": "ipython3",
   "version": "3.13.0"
  }
 },
 "nbformat": 4,
 "nbformat_minor": 2
}
