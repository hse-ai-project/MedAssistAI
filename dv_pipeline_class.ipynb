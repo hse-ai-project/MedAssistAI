{
 "cells": [
  {
   "cell_type": "code",
   "execution_count": 1,
   "metadata": {},
   "outputs": [
    {
     "name": "stderr",
     "output_type": "stream",
     "text": [
      "<>:11: SyntaxWarning: invalid escape sequence '\\D'\n",
      "<>:12: SyntaxWarning: invalid escape sequence '\\m'\n",
      "<>:11: SyntaxWarning: invalid escape sequence '\\D'\n",
      "<>:12: SyntaxWarning: invalid escape sequence '\\m'\n",
      "C:\\Users\\Daniil\\AppData\\Local\\Temp\\ipykernel_12640\\3371568727.py:11: SyntaxWarning: invalid escape sequence '\\D'\n",
      "  df = pd.read_parquet(\"C:\\\\Users\\Daniil\\\\Desktop\\\\Python\\\\hse_project\\\\baseline_cml\\\\data\\\\cardio_train_correct.parquet\")\n",
      "C:\\Users\\Daniil\\AppData\\Local\\Temp\\ipykernel_12640\\3371568727.py:12: SyntaxWarning: invalid escape sequence '\\m'\n",
      "  save_model = joblib.load(\"C:\\\\Users\\\\Daniil\\\\Desktop\\\\Python\\\\hse_project\\\\baseline_cml\\models\\\\xgb_oof.pkl\")\n"
     ]
    }
   ],
   "source": [
    "import pandas as pd\n",
    "import numpy as np\n",
    "import xgboost as xgb\n",
    "\n",
    "from xgboost import XGBClassifier\n",
    "import joblib\n",
    "\n",
    "import warnings\n",
    "warnings.filterwarnings('ignore')\n",
    "\n",
    "df = pd.read_parquet(\"C:\\\\Users\\Daniil\\\\Desktop\\\\Python\\\\hse_project\\\\baseline_cml\\\\data\\\\cardio_train_correct.parquet\")\n",
    "save_model = joblib.load(\"C:\\\\Users\\\\Daniil\\\\Desktop\\\\Python\\\\hse_project\\\\baseline_cml\\models\\\\xgb_oof.pkl\")\n",
    "            \n",
    "model = XGBClassifier()\n",
    "model = save_model"
   ]
  },
  {
   "cell_type": "code",
   "execution_count": 16,
   "metadata": {},
   "outputs": [],
   "source": [
    "class Pipeline_DV:\n",
    "    def __init__(self, X, model_path, X_NaN_dict):\n",
    "        \"\"\"Инициализация класса\n",
    "\n",
    "            Parameters:\n",
    "                X - входной массив данных, на котором получаются предсказания\n",
    "                model_path - модель, на основе которой будут получатся предсказания\n",
    "                X_NaN_dict - словарь для заполнения пропусков во входном массиве данных\n",
    "        \"\"\"\n",
    "        self.X_NaN_dict = X_NaN_dict\n",
    "        self.X = pd.DataFrame(X)\n",
    "        self.model = model_path\n",
    "\n",
    "\n",
    "    def preprocessing(self):\n",
    "        \"\"\"\n",
    "            Функция предобработки входных данных. \n",
    "            В виду того, что данная модель является базовой, в данном варианте присутствуют только заполнения пропусков на случай, если какие-то столбцы будут не заполнены от пользователя\n",
    "\n",
    "            Returns:\n",
    "                X (pd.Dataframe) - подготовленный датафрейм для получения предсказаний\n",
    "        \"\"\"\n",
    "        # Модуль заполнения пропусков\n",
    "        for col in self.model.feature_names_in_:\n",
    "            if (self.X[col].isna().sum() > 0) and (self.X_NaN_dict.get(col) != None):\n",
    "                self.X[col] = self.X_NaN_dict.get(col)\n",
    "\n",
    "        return self.X\n",
    "\n",
    "    def predict(self):\n",
    "        \"\"\"Функция получения предсказаний из обработанного массива данных.\n",
    "\n",
    "            Returns:    1 0\n",
    "                        0.8 0.35\n",
    "                np.array - массив numpy с округлёнными вероятностями.\n",
    "        \"\"\"\n",
    "        return np.round(self.model.predict(self.X)).astype(int)"
   ]
  },
  {
   "cell_type": "code",
   "execution_count": 19,
   "metadata": {},
   "outputs": [
    {
     "data": {
      "text/html": [
       "<div>\n",
       "<style scoped>\n",
       "    .dataframe tbody tr th:only-of-type {\n",
       "        vertical-align: middle;\n",
       "    }\n",
       "\n",
       "    .dataframe tbody tr th {\n",
       "        vertical-align: top;\n",
       "    }\n",
       "\n",
       "    .dataframe thead th {\n",
       "        text-align: right;\n",
       "    }\n",
       "</style>\n",
       "<table border=\"1\" class=\"dataframe\">\n",
       "  <thead>\n",
       "    <tr style=\"text-align: right;\">\n",
       "      <th></th>\n",
       "    </tr>\n",
       "  </thead>\n",
       "  <tbody>\n",
       "  </tbody>\n",
       "</table>\n",
       "</div>"
      ],
      "text/plain": [
       "Empty DataFrame\n",
       "Columns: []\n",
       "Index: []"
      ]
     },
     "execution_count": 19,
     "metadata": {},
     "output_type": "execute_result"
    }
   ],
   "source": [
    "Pipeline_instance = Pipeline_DV(X=None, model_path=model, X_NaN_dict=df.drop('id',axis=1).mean().to_dict())"
   ]
  }
 ],
 "metadata": {
  "kernelspec": {
   "display_name": "Python 3",
   "language": "python",
   "name": "python3"
  },
  "language_info": {
   "codemirror_mode": {
    "name": "ipython",
    "version": 3
   },
   "file_extension": ".py",
   "mimetype": "text/x-python",
   "name": "python",
   "nbconvert_exporter": "python",
   "pygments_lexer": "ipython3",
   "version": "3.13.0"
  }
 },
 "nbformat": 4,
 "nbformat_minor": 2
}
